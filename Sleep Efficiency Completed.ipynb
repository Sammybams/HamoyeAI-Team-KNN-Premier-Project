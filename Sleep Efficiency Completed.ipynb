{
 "cells": [
  {
   "cell_type": "code",
   "execution_count": 1,
   "metadata": {},
   "outputs": [],
   "source": [
    "# Importing necessary libraries\n",
    "\n",
    "import pandas as pd\n",
    "import numpy as np\n",
    "import matplotlib.pyplot as plt\n",
    "import seaborn as sns\n",
    "\n",
    "import warnings\n",
    "warnings.filterwarnings('ignore')"
   ]
  },
  {
   "cell_type": "markdown",
   "metadata": {},
   "source": [
    "# _About Dataset_\n",
    "### The dataset contains information about a group of test subjects and their sleep patterns. Each test subject is identified by a unique \"Subject ID\" and their age and gender are also recorded. \n",
    "\n",
    "### The \"Bedtime\" and \"Wakeup time\" features indicate when each subject goes to bed and wakes up each day, and the \"Sleep duration\" feature records the total amount of time each subject slept in hours. \n",
    "\n",
    "### The \"Sleep efficiency\" feature is a measure of the proportion of time spent in bed that is actually spent asleep. The \"REM sleep percentage\", \"Deep sleep percentage\", and \"Light sleep percentage\" features indicate the amount of time each subject spent in each stage of sleep.\n",
    "\n",
    "### The \"Awakenings\" feature records the number of times each subject wakes up during the night. Additionally, the dataset includes information about each subject's caffeine and alcohol consumption in the 24 hours prior to bedtime, their smoking status, and their exercise frequency."
   ]
  },
  {
   "cell_type": "code",
   "execution_count": 2,
   "metadata": {},
   "outputs": [],
   "source": [
    "sleep = pd.read_csv('Sleep_Efficiency.csv')"
   ]
  },
  {
   "cell_type": "code",
   "execution_count": 3,
   "metadata": {},
   "outputs": [
    {
     "data": {
      "text/html": [
       "<div>\n",
       "<style scoped>\n",
       "    .dataframe tbody tr th:only-of-type {\n",
       "        vertical-align: middle;\n",
       "    }\n",
       "\n",
       "    .dataframe tbody tr th {\n",
       "        vertical-align: top;\n",
       "    }\n",
       "\n",
       "    .dataframe thead th {\n",
       "        text-align: right;\n",
       "    }\n",
       "</style>\n",
       "<table border=\"1\" class=\"dataframe\">\n",
       "  <thead>\n",
       "    <tr style=\"text-align: right;\">\n",
       "      <th></th>\n",
       "      <th>ID</th>\n",
       "      <th>Age</th>\n",
       "      <th>Gender</th>\n",
       "      <th>Bedtime</th>\n",
       "      <th>Wakeup time</th>\n",
       "      <th>Sleep duration</th>\n",
       "      <th>Sleep efficiency</th>\n",
       "      <th>REM sleep percentage</th>\n",
       "      <th>Deep sleep percentage</th>\n",
       "      <th>Light sleep percentage</th>\n",
       "      <th>Awakenings</th>\n",
       "      <th>Caffeine consumption</th>\n",
       "      <th>Alcohol consumption</th>\n",
       "      <th>Smoking status</th>\n",
       "      <th>Exercise frequency</th>\n",
       "    </tr>\n",
       "  </thead>\n",
       "  <tbody>\n",
       "    <tr>\n",
       "      <th>0</th>\n",
       "      <td>1</td>\n",
       "      <td>65</td>\n",
       "      <td>Female</td>\n",
       "      <td>2021-03-06 01:00:00</td>\n",
       "      <td>2021-03-06 07:00:00</td>\n",
       "      <td>6.0</td>\n",
       "      <td>0.88</td>\n",
       "      <td>18</td>\n",
       "      <td>70</td>\n",
       "      <td>10</td>\n",
       "      <td>0.0</td>\n",
       "      <td>0.0</td>\n",
       "      <td>0.0</td>\n",
       "      <td>Yes</td>\n",
       "      <td>3.0</td>\n",
       "    </tr>\n",
       "    <tr>\n",
       "      <th>1</th>\n",
       "      <td>2</td>\n",
       "      <td>69</td>\n",
       "      <td>Male</td>\n",
       "      <td>2021-12-05 02:00:00</td>\n",
       "      <td>2021-12-05 09:00:00</td>\n",
       "      <td>7.0</td>\n",
       "      <td>0.66</td>\n",
       "      <td>24</td>\n",
       "      <td>28</td>\n",
       "      <td>53</td>\n",
       "      <td>3.0</td>\n",
       "      <td>0.0</td>\n",
       "      <td>3.0</td>\n",
       "      <td>Yes</td>\n",
       "      <td>3.0</td>\n",
       "    </tr>\n",
       "    <tr>\n",
       "      <th>2</th>\n",
       "      <td>3</td>\n",
       "      <td>40</td>\n",
       "      <td>Female</td>\n",
       "      <td>2021-05-25 21:30:00</td>\n",
       "      <td>2021-05-25 05:30:00</td>\n",
       "      <td>8.0</td>\n",
       "      <td>0.89</td>\n",
       "      <td>20</td>\n",
       "      <td>70</td>\n",
       "      <td>10</td>\n",
       "      <td>1.0</td>\n",
       "      <td>0.0</td>\n",
       "      <td>0.0</td>\n",
       "      <td>No</td>\n",
       "      <td>3.0</td>\n",
       "    </tr>\n",
       "    <tr>\n",
       "      <th>3</th>\n",
       "      <td>4</td>\n",
       "      <td>40</td>\n",
       "      <td>Female</td>\n",
       "      <td>2021-11-03 02:30:00</td>\n",
       "      <td>2021-11-03 08:30:00</td>\n",
       "      <td>6.0</td>\n",
       "      <td>0.51</td>\n",
       "      <td>28</td>\n",
       "      <td>25</td>\n",
       "      <td>52</td>\n",
       "      <td>3.0</td>\n",
       "      <td>50.0</td>\n",
       "      <td>5.0</td>\n",
       "      <td>Yes</td>\n",
       "      <td>1.0</td>\n",
       "    </tr>\n",
       "    <tr>\n",
       "      <th>4</th>\n",
       "      <td>5</td>\n",
       "      <td>57</td>\n",
       "      <td>Male</td>\n",
       "      <td>2021-03-13 01:00:00</td>\n",
       "      <td>2021-03-13 09:00:00</td>\n",
       "      <td>8.0</td>\n",
       "      <td>0.76</td>\n",
       "      <td>27</td>\n",
       "      <td>55</td>\n",
       "      <td>18</td>\n",
       "      <td>3.0</td>\n",
       "      <td>0.0</td>\n",
       "      <td>3.0</td>\n",
       "      <td>No</td>\n",
       "      <td>3.0</td>\n",
       "    </tr>\n",
       "  </tbody>\n",
       "</table>\n",
       "</div>"
      ],
      "text/plain": [
       "   ID  Age  Gender              Bedtime          Wakeup time  Sleep duration  \\\n",
       "0   1   65  Female  2021-03-06 01:00:00  2021-03-06 07:00:00             6.0   \n",
       "1   2   69    Male  2021-12-05 02:00:00  2021-12-05 09:00:00             7.0   \n",
       "2   3   40  Female  2021-05-25 21:30:00  2021-05-25 05:30:00             8.0   \n",
       "3   4   40  Female  2021-11-03 02:30:00  2021-11-03 08:30:00             6.0   \n",
       "4   5   57    Male  2021-03-13 01:00:00  2021-03-13 09:00:00             8.0   \n",
       "\n",
       "   Sleep efficiency  REM sleep percentage  Deep sleep percentage  \\\n",
       "0              0.88                    18                     70   \n",
       "1              0.66                    24                     28   \n",
       "2              0.89                    20                     70   \n",
       "3              0.51                    28                     25   \n",
       "4              0.76                    27                     55   \n",
       "\n",
       "   Light sleep percentage  Awakenings  Caffeine consumption  \\\n",
       "0                      10         0.0                   0.0   \n",
       "1                      53         3.0                   0.0   \n",
       "2                      10         1.0                   0.0   \n",
       "3                      52         3.0                  50.0   \n",
       "4                      18         3.0                   0.0   \n",
       "\n",
       "   Alcohol consumption Smoking status  Exercise frequency  \n",
       "0                  0.0            Yes                 3.0  \n",
       "1                  3.0            Yes                 3.0  \n",
       "2                  0.0             No                 3.0  \n",
       "3                  5.0            Yes                 1.0  \n",
       "4                  3.0             No                 3.0  "
      ]
     },
     "execution_count": 3,
     "metadata": {},
     "output_type": "execute_result"
    }
   ],
   "source": [
    "sleep.head()"
   ]
  },
  {
   "cell_type": "code",
   "execution_count": 4,
   "metadata": {},
   "outputs": [
    {
     "data": {
      "text/plain": [
       "(452, 15)"
      ]
     },
     "execution_count": 4,
     "metadata": {},
     "output_type": "execute_result"
    }
   ],
   "source": [
    "sleep.shape"
   ]
  },
  {
   "cell_type": "code",
   "execution_count": 5,
   "metadata": {},
   "outputs": [
    {
     "name": "stdout",
     "output_type": "stream",
     "text": [
      "<class 'pandas.core.frame.DataFrame'>\n",
      "RangeIndex: 452 entries, 0 to 451\n",
      "Data columns (total 15 columns):\n",
      " #   Column                  Non-Null Count  Dtype  \n",
      "---  ------                  --------------  -----  \n",
      " 0   ID                      452 non-null    int64  \n",
      " 1   Age                     452 non-null    int64  \n",
      " 2   Gender                  452 non-null    object \n",
      " 3   Bedtime                 452 non-null    object \n",
      " 4   Wakeup time             452 non-null    object \n",
      " 5   Sleep duration          452 non-null    float64\n",
      " 6   Sleep efficiency        452 non-null    float64\n",
      " 7   REM sleep percentage    452 non-null    int64  \n",
      " 8   Deep sleep percentage   452 non-null    int64  \n",
      " 9   Light sleep percentage  452 non-null    int64  \n",
      " 10  Awakenings              432 non-null    float64\n",
      " 11  Caffeine consumption    427 non-null    float64\n",
      " 12  Alcohol consumption     436 non-null    float64\n",
      " 13  Smoking status          452 non-null    object \n",
      " 14  Exercise frequency      446 non-null    float64\n",
      "dtypes: float64(6), int64(5), object(4)\n",
      "memory usage: 53.1+ KB\n"
     ]
    }
   ],
   "source": [
    "# Information on dataframe\n",
    "sleep.info()"
   ]
  },
  {
   "cell_type": "code",
   "execution_count": 6,
   "metadata": {
    "scrolled": false
   },
   "outputs": [
    {
     "data": {
      "text/html": [
       "<div>\n",
       "<style scoped>\n",
       "    .dataframe tbody tr th:only-of-type {\n",
       "        vertical-align: middle;\n",
       "    }\n",
       "\n",
       "    .dataframe tbody tr th {\n",
       "        vertical-align: top;\n",
       "    }\n",
       "\n",
       "    .dataframe thead th {\n",
       "        text-align: right;\n",
       "    }\n",
       "</style>\n",
       "<table border=\"1\" class=\"dataframe\">\n",
       "  <thead>\n",
       "    <tr style=\"text-align: right;\">\n",
       "      <th></th>\n",
       "      <th>ID</th>\n",
       "      <th>Age</th>\n",
       "      <th>Sleep duration</th>\n",
       "      <th>Sleep efficiency</th>\n",
       "      <th>REM sleep percentage</th>\n",
       "      <th>Deep sleep percentage</th>\n",
       "      <th>Light sleep percentage</th>\n",
       "      <th>Awakenings</th>\n",
       "      <th>Caffeine consumption</th>\n",
       "      <th>Alcohol consumption</th>\n",
       "      <th>Exercise frequency</th>\n",
       "    </tr>\n",
       "  </thead>\n",
       "  <tbody>\n",
       "    <tr>\n",
       "      <th>count</th>\n",
       "      <td>452.000000</td>\n",
       "      <td>452.000000</td>\n",
       "      <td>452.000000</td>\n",
       "      <td>452.000000</td>\n",
       "      <td>452.000000</td>\n",
       "      <td>452.000000</td>\n",
       "      <td>452.000000</td>\n",
       "      <td>432.000000</td>\n",
       "      <td>427.000000</td>\n",
       "      <td>436.000000</td>\n",
       "      <td>446.000000</td>\n",
       "    </tr>\n",
       "    <tr>\n",
       "      <th>mean</th>\n",
       "      <td>226.500000</td>\n",
       "      <td>40.285398</td>\n",
       "      <td>7.465708</td>\n",
       "      <td>0.788916</td>\n",
       "      <td>23.002212</td>\n",
       "      <td>52.960177</td>\n",
       "      <td>24.831858</td>\n",
       "      <td>1.641204</td>\n",
       "      <td>23.653396</td>\n",
       "      <td>1.245413</td>\n",
       "      <td>1.791480</td>\n",
       "    </tr>\n",
       "    <tr>\n",
       "      <th>std</th>\n",
       "      <td>130.625419</td>\n",
       "      <td>13.172250</td>\n",
       "      <td>0.866625</td>\n",
       "      <td>0.135237</td>\n",
       "      <td>3.972466</td>\n",
       "      <td>15.561713</td>\n",
       "      <td>15.150774</td>\n",
       "      <td>1.356762</td>\n",
       "      <td>30.202785</td>\n",
       "      <td>1.643336</td>\n",
       "      <td>1.428134</td>\n",
       "    </tr>\n",
       "    <tr>\n",
       "      <th>min</th>\n",
       "      <td>1.000000</td>\n",
       "      <td>9.000000</td>\n",
       "      <td>5.000000</td>\n",
       "      <td>0.500000</td>\n",
       "      <td>15.000000</td>\n",
       "      <td>20.000000</td>\n",
       "      <td>7.000000</td>\n",
       "      <td>0.000000</td>\n",
       "      <td>0.000000</td>\n",
       "      <td>0.000000</td>\n",
       "      <td>0.000000</td>\n",
       "    </tr>\n",
       "    <tr>\n",
       "      <th>25%</th>\n",
       "      <td>113.750000</td>\n",
       "      <td>29.000000</td>\n",
       "      <td>7.000000</td>\n",
       "      <td>0.697500</td>\n",
       "      <td>20.000000</td>\n",
       "      <td>51.250000</td>\n",
       "      <td>15.000000</td>\n",
       "      <td>1.000000</td>\n",
       "      <td>0.000000</td>\n",
       "      <td>0.000000</td>\n",
       "      <td>0.000000</td>\n",
       "    </tr>\n",
       "    <tr>\n",
       "      <th>50%</th>\n",
       "      <td>226.500000</td>\n",
       "      <td>40.000000</td>\n",
       "      <td>7.500000</td>\n",
       "      <td>0.820000</td>\n",
       "      <td>22.000000</td>\n",
       "      <td>60.000000</td>\n",
       "      <td>18.000000</td>\n",
       "      <td>1.000000</td>\n",
       "      <td>25.000000</td>\n",
       "      <td>0.000000</td>\n",
       "      <td>2.000000</td>\n",
       "    </tr>\n",
       "    <tr>\n",
       "      <th>75%</th>\n",
       "      <td>339.250000</td>\n",
       "      <td>52.000000</td>\n",
       "      <td>8.000000</td>\n",
       "      <td>0.900000</td>\n",
       "      <td>27.000000</td>\n",
       "      <td>63.000000</td>\n",
       "      <td>27.250000</td>\n",
       "      <td>3.000000</td>\n",
       "      <td>50.000000</td>\n",
       "      <td>2.000000</td>\n",
       "      <td>3.000000</td>\n",
       "    </tr>\n",
       "    <tr>\n",
       "      <th>max</th>\n",
       "      <td>452.000000</td>\n",
       "      <td>69.000000</td>\n",
       "      <td>10.000000</td>\n",
       "      <td>0.990000</td>\n",
       "      <td>30.000000</td>\n",
       "      <td>75.000000</td>\n",
       "      <td>56.000000</td>\n",
       "      <td>4.000000</td>\n",
       "      <td>200.000000</td>\n",
       "      <td>5.000000</td>\n",
       "      <td>5.000000</td>\n",
       "    </tr>\n",
       "  </tbody>\n",
       "</table>\n",
       "</div>"
      ],
      "text/plain": [
       "               ID         Age  Sleep duration  Sleep efficiency  \\\n",
       "count  452.000000  452.000000      452.000000        452.000000   \n",
       "mean   226.500000   40.285398        7.465708          0.788916   \n",
       "std    130.625419   13.172250        0.866625          0.135237   \n",
       "min      1.000000    9.000000        5.000000          0.500000   \n",
       "25%    113.750000   29.000000        7.000000          0.697500   \n",
       "50%    226.500000   40.000000        7.500000          0.820000   \n",
       "75%    339.250000   52.000000        8.000000          0.900000   \n",
       "max    452.000000   69.000000       10.000000          0.990000   \n",
       "\n",
       "       REM sleep percentage  Deep sleep percentage  Light sleep percentage  \\\n",
       "count            452.000000             452.000000              452.000000   \n",
       "mean              23.002212              52.960177               24.831858   \n",
       "std                3.972466              15.561713               15.150774   \n",
       "min               15.000000              20.000000                7.000000   \n",
       "25%               20.000000              51.250000               15.000000   \n",
       "50%               22.000000              60.000000               18.000000   \n",
       "75%               27.000000              63.000000               27.250000   \n",
       "max               30.000000              75.000000               56.000000   \n",
       "\n",
       "       Awakenings  Caffeine consumption  Alcohol consumption  \\\n",
       "count  432.000000            427.000000           436.000000   \n",
       "mean     1.641204             23.653396             1.245413   \n",
       "std      1.356762             30.202785             1.643336   \n",
       "min      0.000000              0.000000             0.000000   \n",
       "25%      1.000000              0.000000             0.000000   \n",
       "50%      1.000000             25.000000             0.000000   \n",
       "75%      3.000000             50.000000             2.000000   \n",
       "max      4.000000            200.000000             5.000000   \n",
       "\n",
       "       Exercise frequency  \n",
       "count          446.000000  \n",
       "mean             1.791480  \n",
       "std              1.428134  \n",
       "min              0.000000  \n",
       "25%              0.000000  \n",
       "50%              2.000000  \n",
       "75%              3.000000  \n",
       "max              5.000000  "
      ]
     },
     "execution_count": 6,
     "metadata": {},
     "output_type": "execute_result"
    }
   ],
   "source": [
    "sleep.describe()"
   ]
  },
  {
   "cell_type": "markdown",
   "metadata": {},
   "source": [
    "## Exploratory Data Analysis"
   ]
  },
  {
   "cell_type": "code",
   "execution_count": 7,
   "metadata": {},
   "outputs": [
    {
     "data": {
      "image/png": "[encoded data removed]",
      "text/plain": [
       "<Figure size 576x432 with 1 Axes>"
      ]
     },
     "metadata": {
      "needs_background": "light"
     },
     "output_type": "display_data"
    }
   ],
   "source": [
    "# Creating a histogram of Distribution of Sleep Duration\n",
    "plt.figure(figsize=(8,6))\n",
    "plt.hist(sleep[\"Sleep duration\"])\n",
    "plt.xlabel(\"Sleep duration\")\n",
    "plt.ylabel(\"Frequency\")\n",
    "plt.title(\"Distribution of Sleep Duration\");"
   ]
  },
  {
   "cell_type": "code",
   "execution_count": 8,
   "metadata": {},
   "outputs": [
    {
     "data": {
      "image/png": "[encoded data removed]",
      "text/plain": [
       "<Figure size 576x432 with 1 Axes>"
      ]
     },
     "metadata": {
      "needs_background": "light"
     },
     "output_type": "display_data"
    }
   ],
   "source": [
    "# Creating a histogram of Distribution of Sleep efficiency\n",
    "plt.figure(figsize=(8,6))\n",
    "plt.hist(sleep[\"Sleep efficiency\"])\n",
    "plt.xlabel(\"Sleep efficiency\")\n",
    "plt.ylabel(\"Frequency\")\n",
    "plt.title(\"Distribution of Sleep efficiency\");"
   ]
  },
  {
   "cell_type": "code",
   "execution_count": 9,
   "metadata": {},
   "outputs": [],
   "source": [
    "sleep['REM sleep percentage'] = sleep['REM sleep percentage']/100\n",
    "sleep['Deep sleep percentage'] = sleep['Deep sleep percentage']/100\n",
    "sleep['Light sleep percentage'] = sleep['Light sleep percentage']/100"
   ]
  },
  {
   "cell_type": "code",
   "execution_count": 10,
   "metadata": {},
   "outputs": [
    {
     "data": {
      "text/html": [
       "<div>\n",
       "<style scoped>\n",
       "    .dataframe tbody tr th:only-of-type {\n",
       "        vertical-align: middle;\n",
       "    }\n",
       "\n",
       "    .dataframe tbody tr th {\n",
       "        vertical-align: top;\n",
       "    }\n",
       "\n",
       "    .dataframe thead th {\n",
       "        text-align: right;\n",
       "    }\n",
       "</style>\n",
       "<table border=\"1\" class=\"dataframe\">\n",
       "  <thead>\n",
       "    <tr style=\"text-align: right;\">\n",
       "      <th></th>\n",
       "      <th>Sleep efficiency</th>\n",
       "      <th>REM sleep percentage</th>\n",
       "      <th>Deep sleep percentage</th>\n",
       "      <th>Light sleep percentage</th>\n",
       "      <th>Sleep duration</th>\n",
       "    </tr>\n",
       "    <tr>\n",
       "      <th>Gender</th>\n",
       "      <th></th>\n",
       "      <th></th>\n",
       "      <th></th>\n",
       "      <th></th>\n",
       "      <th></th>\n",
       "    </tr>\n",
       "  </thead>\n",
       "  <tbody>\n",
       "    <tr>\n",
       "      <th>Female</th>\n",
       "      <td>0.787545</td>\n",
       "      <td>0.236205</td>\n",
       "      <td>0.519911</td>\n",
       "      <td>0.255357</td>\n",
       "      <td>7.504464</td>\n",
       "    </tr>\n",
       "    <tr>\n",
       "      <th>Male</th>\n",
       "      <td>0.790263</td>\n",
       "      <td>0.223947</td>\n",
       "      <td>0.539123</td>\n",
       "      <td>0.241404</td>\n",
       "      <td>7.427632</td>\n",
       "    </tr>\n",
       "  </tbody>\n",
       "</table>\n",
       "</div>"
      ],
      "text/plain": [
       "        Sleep efficiency  REM sleep percentage  Deep sleep percentage  \\\n",
       "Gender                                                                  \n",
       "Female          0.787545              0.236205               0.519911   \n",
       "Male            0.790263              0.223947               0.539123   \n",
       "\n",
       "        Light sleep percentage  Sleep duration  \n",
       "Gender                                          \n",
       "Female                0.255357        7.504464  \n",
       "Male                  0.241404        7.427632  "
      ]
     },
     "execution_count": 10,
     "metadata": {},
     "output_type": "execute_result"
    }
   ],
   "source": [
    "gender_group = sleep.groupby('Gender')['Sleep efficiency', 'REM sleep percentage',\n",
    "                                       'Deep sleep percentage', 'Light sleep percentage', 'Sleep duration'].mean() \n",
    "gender_group"
   ]
  },
  {
   "cell_type": "code",
   "execution_count": 11,
   "metadata": {},
   "outputs": [
    {
     "data": {
      "image/png": "[encoded data removed]",
      "text/plain": [
       "<Figure size 432x288 with 1 Axes>"
      ]
     },
     "metadata": {
      "needs_background": "light"
     },
     "output_type": "display_data"
    }
   ],
   "source": [
    "gender_group.drop(columns=['Sleep duration']).plot(kind=\"bar\");"
   ]
  },
  {
   "cell_type": "markdown",
   "metadata": {},
   "source": [
    "### From the plot above plot, it is clear that the gender of a person has very little impact on the Sleep efficiency and general sleep percentage"
   ]
  },
  {
   "cell_type": "code",
   "execution_count": 12,
   "metadata": {},
   "outputs": [
    {
     "data": {
      "image/png": "[encoded data removed]",
      "text/plain": [
       "<Figure size 432x216 with 1 Axes>"
      ]
     },
     "metadata": {
      "needs_background": "light"
     },
     "output_type": "display_data"
    }
   ],
   "source": [
    "gender_group[['Sleep duration']].plot(kind='barh', figsize=(6,3));"
   ]
  },
  {
   "cell_type": "code",
   "execution_count": 13,
   "metadata": {},
   "outputs": [],
   "source": [
    "# Sleep duration is also about the same in both males and females."
   ]
  },
  {
   "cell_type": "markdown",
   "metadata": {},
   "source": [
    "### Performing Age binning to check distribution of Sleep efficiency among different age groups."
   ]
  },
  {
   "cell_type": "code",
   "execution_count": 14,
   "metadata": {},
   "outputs": [
    {
     "data": {
      "text/plain": [
       "(9, 69)"
      ]
     },
     "execution_count": 14,
     "metadata": {},
     "output_type": "execute_result"
    }
   ],
   "source": [
    "min(sleep['Age']), max(sleep['Age'])"
   ]
  },
  {
   "cell_type": "code",
   "execution_count": 15,
   "metadata": {},
   "outputs": [],
   "source": [
    "age_bins = [9, 12, 19, 29, 39, 49, 59, 70]\n",
    "group_names = [\"Child\", \"Teen\", \"20+\", \"30+\", \"40+\", \"50+\", \"60+\"]"
   ]
  },
  {
   "cell_type": "code",
   "execution_count": 16,
   "metadata": {},
   "outputs": [
    {
     "data": {
      "text/html": [
       "<div>\n",
       "<style scoped>\n",
       "    .dataframe tbody tr th:only-of-type {\n",
       "        vertical-align: middle;\n",
       "    }\n",
       "\n",
       "    .dataframe tbody tr th {\n",
       "        vertical-align: top;\n",
       "    }\n",
       "\n",
       "    .dataframe thead th {\n",
       "        text-align: right;\n",
       "    }\n",
       "</style>\n",
       "<table border=\"1\" class=\"dataframe\">\n",
       "  <thead>\n",
       "    <tr style=\"text-align: right;\">\n",
       "      <th></th>\n",
       "      <th>Age</th>\n",
       "      <th>age-binned</th>\n",
       "    </tr>\n",
       "  </thead>\n",
       "  <tbody>\n",
       "    <tr>\n",
       "      <th>0</th>\n",
       "      <td>65</td>\n",
       "      <td>60+</td>\n",
       "    </tr>\n",
       "    <tr>\n",
       "      <th>1</th>\n",
       "      <td>69</td>\n",
       "      <td>60+</td>\n",
       "    </tr>\n",
       "    <tr>\n",
       "      <th>2</th>\n",
       "      <td>40</td>\n",
       "      <td>40+</td>\n",
       "    </tr>\n",
       "    <tr>\n",
       "      <th>3</th>\n",
       "      <td>40</td>\n",
       "      <td>40+</td>\n",
       "    </tr>\n",
       "    <tr>\n",
       "      <th>4</th>\n",
       "      <td>57</td>\n",
       "      <td>50+</td>\n",
       "    </tr>\n",
       "  </tbody>\n",
       "</table>\n",
       "</div>"
      ],
      "text/plain": [
       "   Age age-binned\n",
       "0   65        60+\n",
       "1   69        60+\n",
       "2   40        40+\n",
       "3   40        40+\n",
       "4   57        50+"
      ]
     },
     "execution_count": 16,
     "metadata": {},
     "output_type": "execute_result"
    }
   ],
   "source": [
    "sleep[\"age-binned\"] = pd.cut(sleep[\"Age\"], age_bins, labels=group_names, include_lowest = True)\n",
    "sleep[['Age', 'age-binned']].head()"
   ]
  },
  {
   "cell_type": "code",
   "execution_count": 17,
   "metadata": {},
   "outputs": [
    {
     "data": {
      "text/html": [
       "<div>\n",
       "<style scoped>\n",
       "    .dataframe tbody tr th:only-of-type {\n",
       "        vertical-align: middle;\n",
       "    }\n",
       "\n",
       "    .dataframe tbody tr th {\n",
       "        vertical-align: top;\n",
       "    }\n",
       "\n",
       "    .dataframe thead th {\n",
       "        text-align: right;\n",
       "    }\n",
       "</style>\n",
       "<table border=\"1\" class=\"dataframe\">\n",
       "  <thead>\n",
       "    <tr style=\"text-align: right;\">\n",
       "      <th></th>\n",
       "      <th>Sleep efficiency</th>\n",
       "      <th>Sleep duration</th>\n",
       "    </tr>\n",
       "    <tr>\n",
       "      <th>age-binned</th>\n",
       "      <th></th>\n",
       "      <th></th>\n",
       "    </tr>\n",
       "  </thead>\n",
       "  <tbody>\n",
       "    <tr>\n",
       "      <th>Child</th>\n",
       "      <td>0.542500</td>\n",
       "      <td>8.375000</td>\n",
       "    </tr>\n",
       "    <tr>\n",
       "      <th>Teen</th>\n",
       "      <td>0.719231</td>\n",
       "      <td>7.807692</td>\n",
       "    </tr>\n",
       "    <tr>\n",
       "      <th>20+</th>\n",
       "      <td>0.766509</td>\n",
       "      <td>7.415094</td>\n",
       "    </tr>\n",
       "    <tr>\n",
       "      <th>30+</th>\n",
       "      <td>0.813474</td>\n",
       "      <td>7.568421</td>\n",
       "    </tr>\n",
       "    <tr>\n",
       "      <th>40+</th>\n",
       "      <td>0.807347</td>\n",
       "      <td>7.367347</td>\n",
       "    </tr>\n",
       "    <tr>\n",
       "      <th>50+</th>\n",
       "      <td>0.801569</td>\n",
       "      <td>7.392157</td>\n",
       "    </tr>\n",
       "    <tr>\n",
       "      <th>60+</th>\n",
       "      <td>0.754706</td>\n",
       "      <td>7.602941</td>\n",
       "    </tr>\n",
       "  </tbody>\n",
       "</table>\n",
       "</div>"
      ],
      "text/plain": [
       "            Sleep efficiency  Sleep duration\n",
       "age-binned                                  \n",
       "Child               0.542500        8.375000\n",
       "Teen                0.719231        7.807692\n",
       "20+                 0.766509        7.415094\n",
       "30+                 0.813474        7.568421\n",
       "40+                 0.807347        7.367347\n",
       "50+                 0.801569        7.392157\n",
       "60+                 0.754706        7.602941"
      ]
     },
     "execution_count": 17,
     "metadata": {},
     "output_type": "execute_result"
    }
   ],
   "source": [
    "age_groups = sleep.groupby('age-binned')['Sleep efficiency', 'Sleep duration'].mean()\n",
    "age_groups"
   ]
  },
  {
   "cell_type": "code",
   "execution_count": 18,
   "metadata": {},
   "outputs": [
    {
     "data": {
      "image/png": "[encoded data removed]",
      "text/plain": [
       "<Figure size 432x288 with 1 Axes>"
      ]
     },
     "metadata": {
      "needs_background": "light"
     },
     "output_type": "display_data"
    }
   ],
   "source": [
    "age_groups.plot(kind='bar', y='Sleep efficiency');"
   ]
  },
  {
   "cell_type": "markdown",
   "metadata": {},
   "source": [
    "### While Sleep efficiency describes the percentage of sleep time actually spent sleeping, the dataset shows that Sleep efficiency increases to over 80% in age bracket of 40+ from around 50% in children before gradually decreasing as age increases further."
   ]
  },
  {
   "cell_type": "markdown",
   "metadata": {},
   "source": [
    "### Sleep duration among age groups"
   ]
  },
  {
   "cell_type": "code",
   "execution_count": 19,
   "metadata": {},
   "outputs": [
    {
     "data": {
      "image/png": "[encoded data removed]",
      "text/plain": [
       "<Figure size 432x288 with 1 Axes>"
      ]
     },
     "metadata": {
      "needs_background": "light"
     },
     "output_type": "display_data"
    }
   ],
   "source": [
    "age_groups.plot(kind='bar', y='Sleep duration', colormap='cividis');"
   ]
  },
  {
   "cell_type": "markdown",
   "metadata": {},
   "source": [
    "### Sleep efficiency among smokers"
   ]
  },
  {
   "cell_type": "code",
   "execution_count": 20,
   "metadata": {},
   "outputs": [
    {
     "data": {
      "text/html": [
       "<div>\n",
       "<style scoped>\n",
       "    .dataframe tbody tr th:only-of-type {\n",
       "        vertical-align: middle;\n",
       "    }\n",
       "\n",
       "    .dataframe tbody tr th {\n",
       "        vertical-align: top;\n",
       "    }\n",
       "\n",
       "    .dataframe thead th {\n",
       "        text-align: right;\n",
       "    }\n",
       "</style>\n",
       "<table border=\"1\" class=\"dataframe\">\n",
       "  <thead>\n",
       "    <tr style=\"text-align: right;\">\n",
       "      <th></th>\n",
       "      <th>Sleep efficiency</th>\n",
       "    </tr>\n",
       "    <tr>\n",
       "      <th>Smoking status</th>\n",
       "      <th></th>\n",
       "    </tr>\n",
       "  </thead>\n",
       "  <tbody>\n",
       "    <tr>\n",
       "      <th>No</th>\n",
       "      <td>0.822234</td>\n",
       "    </tr>\n",
       "    <tr>\n",
       "      <th>Yes</th>\n",
       "      <td>0.728696</td>\n",
       "    </tr>\n",
       "  </tbody>\n",
       "</table>\n",
       "</div>"
      ],
      "text/plain": [
       "                Sleep efficiency\n",
       "Smoking status                  \n",
       "No                      0.822234\n",
       "Yes                     0.728696"
      ]
     },
     "execution_count": 20,
     "metadata": {},
     "output_type": "execute_result"
    }
   ],
   "source": [
    "smoking_group = sleep.groupby('Smoking status')['Sleep efficiency', 'Smoking status'].mean()\n",
    "smoking_group"
   ]
  },
  {
   "cell_type": "code",
   "execution_count": 21,
   "metadata": {},
   "outputs": [
    {
     "data": {
      "image/png": "[encoded data removed]",
      "text/plain": [
       "<Figure size 288x504 with 1 Axes>"
      ]
     },
     "metadata": {
      "needs_background": "light"
     },
     "output_type": "display_data"
    }
   ],
   "source": [
    "smoking_group.plot(kind='bar', figsize=(4,7));"
   ]
  },
  {
   "cell_type": "code",
   "execution_count": 22,
   "metadata": {},
   "outputs": [],
   "source": [
    "## It is clear here that Smokers generally have a lower sleep efficiency compared to non-smokers. "
   ]
  },
  {
   "cell_type": "markdown",
   "metadata": {},
   "source": [
    "### Effect of Exercise on Sleep efficiency"
   ]
  },
  {
   "cell_type": "code",
   "execution_count": 23,
   "metadata": {},
   "outputs": [
    {
     "data": {
      "text/plain": [
       "3.0    130\n",
       "0.0    116\n",
       "1.0     97\n",
       "2.0     54\n",
       "4.0     41\n",
       "5.0      8\n",
       "Name: Exercise frequency, dtype: int64"
      ]
     },
     "execution_count": 23,
     "metadata": {},
     "output_type": "execute_result"
    }
   ],
   "source": [
    "sleep['Exercise frequency'].value_counts()"
   ]
  },
  {
   "cell_type": "code",
   "execution_count": 24,
   "metadata": {
    "scrolled": true
   },
   "outputs": [
    {
     "data": {
      "text/html": [
       "<div>\n",
       "<style scoped>\n",
       "    .dataframe tbody tr th:only-of-type {\n",
       "        vertical-align: middle;\n",
       "    }\n",
       "\n",
       "    .dataframe tbody tr th {\n",
       "        vertical-align: top;\n",
       "    }\n",
       "\n",
       "    .dataframe thead th {\n",
       "        text-align: right;\n",
       "    }\n",
       "</style>\n",
       "<table border=\"1\" class=\"dataframe\">\n",
       "  <thead>\n",
       "    <tr style=\"text-align: right;\">\n",
       "      <th></th>\n",
       "      <th>Exercise frequency</th>\n",
       "      <th>Sleep efficiency</th>\n",
       "    </tr>\n",
       "  </thead>\n",
       "  <tbody>\n",
       "    <tr>\n",
       "      <th>0</th>\n",
       "      <td>0.0</td>\n",
       "      <td>0.743879</td>\n",
       "    </tr>\n",
       "    <tr>\n",
       "      <th>1</th>\n",
       "      <td>1.0</td>\n",
       "      <td>0.774124</td>\n",
       "    </tr>\n",
       "    <tr>\n",
       "      <th>2</th>\n",
       "      <td>2.0</td>\n",
       "      <td>0.810000</td>\n",
       "    </tr>\n",
       "    <tr>\n",
       "      <th>3</th>\n",
       "      <td>3.0</td>\n",
       "      <td>0.799154</td>\n",
       "    </tr>\n",
       "    <tr>\n",
       "      <th>4</th>\n",
       "      <td>4.0</td>\n",
       "      <td>0.881463</td>\n",
       "    </tr>\n",
       "    <tr>\n",
       "      <th>5</th>\n",
       "      <td>5.0</td>\n",
       "      <td>0.851250</td>\n",
       "    </tr>\n",
       "  </tbody>\n",
       "</table>\n",
       "</div>"
      ],
      "text/plain": [
       "   Exercise frequency  Sleep efficiency\n",
       "0                 0.0          0.743879\n",
       "1                 1.0          0.774124\n",
       "2                 2.0          0.810000\n",
       "3                 3.0          0.799154\n",
       "4                 4.0          0.881463\n",
       "5                 5.0          0.851250"
      ]
     },
     "execution_count": 24,
     "metadata": {},
     "output_type": "execute_result"
    }
   ],
   "source": [
    "exercise_group = sleep.groupby('Exercise frequency')['Exercise frequency', 'Sleep efficiency'].mean()\n",
    "exercise_group = exercise_group.drop(columns=['Exercise frequency']).reset_index()\n",
    "exercise_group"
   ]
  },
  {
   "cell_type": "code",
   "execution_count": 25,
   "metadata": {},
   "outputs": [
    {
     "data": {
      "image/png": "[encoded data removed]",
      "text/plain": [
       "<Figure size 936x360 with 1 Axes>"
      ]
     },
     "metadata": {
      "needs_background": "light"
     },
     "output_type": "display_data"
    }
   ],
   "source": [
    "exercise_group.plot(kind='barh', x='Exercise frequency', y='Sleep efficiency', figsize=(13,5)).legend(bbox_to_anchor=(1, 0.15));"
   ]
  },
  {
   "cell_type": "markdown",
   "metadata": {},
   "source": [
    "### Sleep efficiency is generally higher amongst people with a frequent level of exercising."
   ]
  },
  {
   "cell_type": "markdown",
   "metadata": {},
   "source": [
    "## Cleaning dataset"
   ]
  },
  {
   "cell_type": "code",
   "execution_count": 26,
   "metadata": {},
   "outputs": [],
   "source": [
    "sleep_clean = sleep.drop(columns=['ID', 'Bedtime', 'Wakeup time'])"
   ]
  },
  {
   "cell_type": "code",
   "execution_count": 27,
   "metadata": {},
   "outputs": [
    {
     "data": {
      "text/plain": [
       "Age                          int64\n",
       "Gender                      object\n",
       "Sleep duration             float64\n",
       "Sleep efficiency           float64\n",
       "REM sleep percentage       float64\n",
       "Deep sleep percentage      float64\n",
       "Light sleep percentage     float64\n",
       "Awakenings                 float64\n",
       "Caffeine consumption       float64\n",
       "Alcohol consumption        float64\n",
       "Smoking status              object\n",
       "Exercise frequency         float64\n",
       "age-binned                category\n",
       "dtype: object"
      ]
     },
     "execution_count": 27,
     "metadata": {},
     "output_type": "execute_result"
    }
   ],
   "source": [
    "sleep_clean.dtypes"
   ]
  },
  {
   "cell_type": "code",
   "execution_count": 28,
   "metadata": {},
   "outputs": [],
   "source": [
    "sleep_clean['Gender']=sleep_clean['Gender'].astype('category')\n",
    "sleep_clean['Smoking status']=sleep_clean['Smoking status'].astype('category')"
   ]
  },
  {
   "cell_type": "code",
   "execution_count": 29,
   "metadata": {},
   "outputs": [
    {
     "data": {
      "text/plain": [
       "Age                          int64\n",
       "Gender                    category\n",
       "Sleep duration             float64\n",
       "Sleep efficiency           float64\n",
       "REM sleep percentage       float64\n",
       "Deep sleep percentage      float64\n",
       "Light sleep percentage     float64\n",
       "Awakenings                 float64\n",
       "Caffeine consumption       float64\n",
       "Alcohol consumption        float64\n",
       "Smoking status            category\n",
       "Exercise frequency         float64\n",
       "age-binned                category\n",
       "dtype: object"
      ]
     },
     "execution_count": 29,
     "metadata": {},
     "output_type": "execute_result"
    }
   ],
   "source": [
    "sleep_clean.dtypes"
   ]
  },
  {
   "cell_type": "code",
   "execution_count": 30,
   "metadata": {},
   "outputs": [
    {
     "data": {
      "text/html": [
       "<div>\n",
       "<style scoped>\n",
       "    .dataframe tbody tr th:only-of-type {\n",
       "        vertical-align: middle;\n",
       "    }\n",
       "\n",
       "    .dataframe tbody tr th {\n",
       "        vertical-align: top;\n",
       "    }\n",
       "\n",
       "    .dataframe thead th {\n",
       "        text-align: right;\n",
       "    }\n",
       "</style>\n",
       "<table border=\"1\" class=\"dataframe\">\n",
       "  <thead>\n",
       "    <tr style=\"text-align: right;\">\n",
       "      <th></th>\n",
       "      <th>Age</th>\n",
       "      <th>Sleep duration</th>\n",
       "      <th>Sleep efficiency</th>\n",
       "      <th>REM sleep percentage</th>\n",
       "      <th>Deep sleep percentage</th>\n",
       "      <th>Light sleep percentage</th>\n",
       "      <th>Awakenings</th>\n",
       "      <th>Caffeine consumption</th>\n",
       "      <th>Alcohol consumption</th>\n",
       "      <th>Exercise frequency</th>\n",
       "      <th>...</th>\n",
       "      <th>Gender_Male</th>\n",
       "      <th>Smoking status_No</th>\n",
       "      <th>Smoking status_Yes</th>\n",
       "      <th>age-binned_Child</th>\n",
       "      <th>age-binned_Teen</th>\n",
       "      <th>age-binned_20+</th>\n",
       "      <th>age-binned_30+</th>\n",
       "      <th>age-binned_40+</th>\n",
       "      <th>age-binned_50+</th>\n",
       "      <th>age-binned_60+</th>\n",
       "    </tr>\n",
       "  </thead>\n",
       "  <tbody>\n",
       "    <tr>\n",
       "      <th>0</th>\n",
       "      <td>65</td>\n",
       "      <td>6.0</td>\n",
       "      <td>0.88</td>\n",
       "      <td>0.18</td>\n",
       "      <td>0.70</td>\n",
       "      <td>0.10</td>\n",
       "      <td>0.0</td>\n",
       "      <td>0.0</td>\n",
       "      <td>0.0</td>\n",
       "      <td>3.0</td>\n",
       "      <td>...</td>\n",
       "      <td>0</td>\n",
       "      <td>0</td>\n",
       "      <td>1</td>\n",
       "      <td>0</td>\n",
       "      <td>0</td>\n",
       "      <td>0</td>\n",
       "      <td>0</td>\n",
       "      <td>0</td>\n",
       "      <td>0</td>\n",
       "      <td>1</td>\n",
       "    </tr>\n",
       "    <tr>\n",
       "      <th>1</th>\n",
       "      <td>69</td>\n",
       "      <td>7.0</td>\n",
       "      <td>0.66</td>\n",
       "      <td>0.24</td>\n",
       "      <td>0.28</td>\n",
       "      <td>0.53</td>\n",
       "      <td>3.0</td>\n",
       "      <td>0.0</td>\n",
       "      <td>3.0</td>\n",
       "      <td>3.0</td>\n",
       "      <td>...</td>\n",
       "      <td>1</td>\n",
       "      <td>0</td>\n",
       "      <td>1</td>\n",
       "      <td>0</td>\n",
       "      <td>0</td>\n",
       "      <td>0</td>\n",
       "      <td>0</td>\n",
       "      <td>0</td>\n",
       "      <td>0</td>\n",
       "      <td>1</td>\n",
       "    </tr>\n",
       "    <tr>\n",
       "      <th>2</th>\n",
       "      <td>40</td>\n",
       "      <td>8.0</td>\n",
       "      <td>0.89</td>\n",
       "      <td>0.20</td>\n",
       "      <td>0.70</td>\n",
       "      <td>0.10</td>\n",
       "      <td>1.0</td>\n",
       "      <td>0.0</td>\n",
       "      <td>0.0</td>\n",
       "      <td>3.0</td>\n",
       "      <td>...</td>\n",
       "      <td>0</td>\n",
       "      <td>1</td>\n",
       "      <td>0</td>\n",
       "      <td>0</td>\n",
       "      <td>0</td>\n",
       "      <td>0</td>\n",
       "      <td>0</td>\n",
       "      <td>1</td>\n",
       "      <td>0</td>\n",
       "      <td>0</td>\n",
       "    </tr>\n",
       "    <tr>\n",
       "      <th>3</th>\n",
       "      <td>40</td>\n",
       "      <td>6.0</td>\n",
       "      <td>0.51</td>\n",
       "      <td>0.28</td>\n",
       "      <td>0.25</td>\n",
       "      <td>0.52</td>\n",
       "      <td>3.0</td>\n",
       "      <td>50.0</td>\n",
       "      <td>5.0</td>\n",
       "      <td>1.0</td>\n",
       "      <td>...</td>\n",
       "      <td>0</td>\n",
       "      <td>0</td>\n",
       "      <td>1</td>\n",
       "      <td>0</td>\n",
       "      <td>0</td>\n",
       "      <td>0</td>\n",
       "      <td>0</td>\n",
       "      <td>1</td>\n",
       "      <td>0</td>\n",
       "      <td>0</td>\n",
       "    </tr>\n",
       "    <tr>\n",
       "      <th>4</th>\n",
       "      <td>57</td>\n",
       "      <td>8.0</td>\n",
       "      <td>0.76</td>\n",
       "      <td>0.27</td>\n",
       "      <td>0.55</td>\n",
       "      <td>0.18</td>\n",
       "      <td>3.0</td>\n",
       "      <td>0.0</td>\n",
       "      <td>3.0</td>\n",
       "      <td>3.0</td>\n",
       "      <td>...</td>\n",
       "      <td>1</td>\n",
       "      <td>1</td>\n",
       "      <td>0</td>\n",
       "      <td>0</td>\n",
       "      <td>0</td>\n",
       "      <td>0</td>\n",
       "      <td>0</td>\n",
       "      <td>0</td>\n",
       "      <td>1</td>\n",
       "      <td>0</td>\n",
       "    </tr>\n",
       "  </tbody>\n",
       "</table>\n",
       "<p>5 rows × 21 columns</p>\n",
       "</div>"
      ],
      "text/plain": [
       "   Age  Sleep duration  Sleep efficiency  REM sleep percentage  \\\n",
       "0   65             6.0              0.88                  0.18   \n",
       "1   69             7.0              0.66                  0.24   \n",
       "2   40             8.0              0.89                  0.20   \n",
       "3   40             6.0              0.51                  0.28   \n",
       "4   57             8.0              0.76                  0.27   \n",
       "\n",
       "   Deep sleep percentage  Light sleep percentage  Awakenings  \\\n",
       "0                   0.70                    0.10         0.0   \n",
       "1                   0.28                    0.53         3.0   \n",
       "2                   0.70                    0.10         1.0   \n",
       "3                   0.25                    0.52         3.0   \n",
       "4                   0.55                    0.18         3.0   \n",
       "\n",
       "   Caffeine consumption  Alcohol consumption  Exercise frequency  ...  \\\n",
       "0                   0.0                  0.0                 3.0  ...   \n",
       "1                   0.0                  3.0                 3.0  ...   \n",
       "2                   0.0                  0.0                 3.0  ...   \n",
       "3                  50.0                  5.0                 1.0  ...   \n",
       "4                   0.0                  3.0                 3.0  ...   \n",
       "\n",
       "   Gender_Male  Smoking status_No  Smoking status_Yes  age-binned_Child  \\\n",
       "0            0                  0                   1                 0   \n",
       "1            1                  0                   1                 0   \n",
       "2            0                  1                   0                 0   \n",
       "3            0                  0                   1                 0   \n",
       "4            1                  1                   0                 0   \n",
       "\n",
       "   age-binned_Teen  age-binned_20+  age-binned_30+  age-binned_40+  \\\n",
       "0                0               0               0               0   \n",
       "1                0               0               0               0   \n",
       "2                0               0               0               1   \n",
       "3                0               0               0               1   \n",
       "4                0               0               0               0   \n",
       "\n",
       "   age-binned_50+  age-binned_60+  \n",
       "0               0               1  \n",
       "1               0               1  \n",
       "2               0               0  \n",
       "3               0               0  \n",
       "4               1               0  \n",
       "\n",
       "[5 rows x 21 columns]"
      ]
     },
     "execution_count": 30,
     "metadata": {},
     "output_type": "execute_result"
    }
   ],
   "source": [
    "sleep_clean = pd.get_dummies(sleep_clean, columns = ['Gender', 'Smoking status', 'age-binned'])\n",
    "sleep_clean.head()"
   ]
  },
  {
   "cell_type": "code",
   "execution_count": 31,
   "metadata": {
    "scrolled": false
   },
   "outputs": [
    {
     "data": {
      "text/plain": [
       "Age                        0\n",
       "Sleep duration             0\n",
       "Sleep efficiency           0\n",
       "REM sleep percentage       0\n",
       "Deep sleep percentage      0\n",
       "Light sleep percentage     0\n",
       "Awakenings                20\n",
       "Caffeine consumption      25\n",
       "Alcohol consumption       16\n",
       "Exercise frequency         6\n",
       "Gender_Female              0\n",
       "Gender_Male                0\n",
       "Smoking status_No          0\n",
       "Smoking status_Yes         0\n",
       "age-binned_Child           0\n",
       "age-binned_Teen            0\n",
       "age-binned_20+             0\n",
       "age-binned_30+             0\n",
       "age-binned_40+             0\n",
       "age-binned_50+             0\n",
       "age-binned_60+             0\n",
       "dtype: int64"
      ]
     },
     "execution_count": 31,
     "metadata": {},
     "output_type": "execute_result"
    }
   ],
   "source": [
    "#To check for missing data \n",
    "sleep_clean.isna().sum()"
   ]
  },
  {
   "cell_type": "markdown",
   "metadata": {},
   "source": [
    "There are missing data for `Awakenings`, `Caffeine_consumption`, `Alcohol_consumption` and `Exercise_frequency`."
   ]
  },
  {
   "cell_type": "markdown",
   "metadata": {},
   "source": [
    "### Since all of these features are either ordinal or descrete, we can assume that the missing datas should have values as zero."
   ]
  },
  {
   "cell_type": "code",
   "execution_count": 32,
   "metadata": {},
   "outputs": [
    {
     "data": {
      "text/plain": [
       "Age                       0\n",
       "Sleep duration            0\n",
       "Sleep efficiency          0\n",
       "REM sleep percentage      0\n",
       "Deep sleep percentage     0\n",
       "Light sleep percentage    0\n",
       "Awakenings                0\n",
       "Caffeine consumption      0\n",
       "Alcohol consumption       0\n",
       "Exercise frequency        0\n",
       "Gender_Female             0\n",
       "Gender_Male               0\n",
       "Smoking status_No         0\n",
       "Smoking status_Yes        0\n",
       "age-binned_Child          0\n",
       "age-binned_Teen           0\n",
       "age-binned_20+            0\n",
       "age-binned_30+            0\n",
       "age-binned_40+            0\n",
       "age-binned_50+            0\n",
       "age-binned_60+            0\n",
       "dtype: int64"
      ]
     },
     "execution_count": 32,
     "metadata": {},
     "output_type": "execute_result"
    }
   ],
   "source": [
    "# Replace NaNs with zeros in all columns\n",
    "sleep_clean.fillna(0, inplace=True)\n",
    "sleep_clean.isna().sum()"
   ]
  },
  {
   "cell_type": "markdown",
   "metadata": {},
   "source": [
    "### Correlation Heatmap plot"
   ]
  },
  {
   "cell_type": "code",
   "execution_count": 33,
   "metadata": {
    "scrolled": false
   },
   "outputs": [
    {
     "data": {
      "image/png": "[encoded data removed]",
      "text/plain": [
       "<Figure size 864x576 with 2 Axes>"
      ]
     },
     "metadata": {},
     "output_type": "display_data"
    }
   ],
   "source": [
    "sns.set(rc={'figure.figsize':(12,8)})\n",
    "sns.heatmap(sleep.corr(), annot=True);"
   ]
  },
  {
   "cell_type": "markdown",
   "metadata": {},
   "source": [
    "### From the correlation plot, it is observed that Deep sleep percentage has a strong positive correlation with our target feature, Sleep efficiency.\n",
    "\n",
    "### Also, Light sleep percentage is strongly negatively correlated with Sleep efficiency and in summary says that Sleep efficiency decreases with increase in Light sleep percentage and increases with an increase as well in Deep sleep percentage."
   ]
  },
  {
   "cell_type": "markdown",
   "metadata": {},
   "source": [
    "## Checking and Dealing with outliers"
   ]
  },
  {
   "cell_type": "code",
   "execution_count": 34,
   "metadata": {},
   "outputs": [
    {
     "name": "stdout",
     "output_type": "stream",
     "text": [
      "Box Plots of the continuous features\n"
     ]
    },
    {
     "data": {
      "image/png": "[encoded data removed]",
      "text/plain": [
       "<Figure size 1296x648 with 5 Axes>"
      ]
     },
     "metadata": {},
     "output_type": "display_data"
    }
   ],
   "source": [
    "# Next step in our process flow is to check for any outliers present in the continuous attributes/features.\n",
    "# We can identify with visuals and let us use z score technique.\n",
    "\n",
    "column_names_=['Age','Sleep duration','REM sleep percentage','Deep sleep percentage','Light sleep percentage']\n",
    "plt.figure(figsize=(18,9))\n",
    "for i in range(0,len(column_names_)):\n",
    "    plt.subplot(2,3,i+1)\n",
    "    sns.boxplot(sleep_clean[column_names_[i]],color='blue')\n",
    "print('Box Plots of the continuous features')\n",
    "plt.show()"
   ]
  },
  {
   "cell_type": "code",
   "execution_count": 35,
   "metadata": {},
   "outputs": [
    {
     "name": "stdout",
     "output_type": "stream",
     "text": [
      "(2, 55)\n"
     ]
    }
   ],
   "source": [
    "# Outliers are present in the columns. We will now check the z score of these columns and remove the outliers. \n",
    "\n",
    "from scipy.stats import zscore\n",
    "\n",
    "outliers = np.abs(zscore(sleep_clean.loc[:,'Age':]))\n",
    "print(np.shape(np.where(outliers>=3)))"
   ]
  },
  {
   "cell_type": "markdown",
   "metadata": {},
   "source": [
    "### Since we have only 55 data points (observations as outliers), we can choose to ignore these as they could represent extreme cases that could be crucial to creating a good model."
   ]
  },
  {
   "cell_type": "markdown",
   "metadata": {},
   "source": [
    "## Split the Data"
   ]
  },
  {
   "cell_type": "code",
   "execution_count": 36,
   "metadata": {},
   "outputs": [
    {
     "data": {
      "text/html": [
       "<div>\n",
       "<style scoped>\n",
       "    .dataframe tbody tr th:only-of-type {\n",
       "        vertical-align: middle;\n",
       "    }\n",
       "\n",
       "    .dataframe tbody tr th {\n",
       "        vertical-align: top;\n",
       "    }\n",
       "\n",
       "    .dataframe thead th {\n",
       "        text-align: right;\n",
       "    }\n",
       "</style>\n",
       "<table border=\"1\" class=\"dataframe\">\n",
       "  <thead>\n",
       "    <tr style=\"text-align: right;\">\n",
       "      <th></th>\n",
       "      <th>Age</th>\n",
       "      <th>Sleep duration</th>\n",
       "      <th>Sleep efficiency</th>\n",
       "      <th>REM sleep percentage</th>\n",
       "      <th>Deep sleep percentage</th>\n",
       "      <th>Light sleep percentage</th>\n",
       "      <th>Awakenings</th>\n",
       "      <th>Caffeine consumption</th>\n",
       "      <th>Alcohol consumption</th>\n",
       "      <th>Exercise frequency</th>\n",
       "      <th>...</th>\n",
       "      <th>Gender_Male</th>\n",
       "      <th>Smoking status_No</th>\n",
       "      <th>Smoking status_Yes</th>\n",
       "      <th>age-binned_Child</th>\n",
       "      <th>age-binned_Teen</th>\n",
       "      <th>age-binned_20+</th>\n",
       "      <th>age-binned_30+</th>\n",
       "      <th>age-binned_40+</th>\n",
       "      <th>age-binned_50+</th>\n",
       "      <th>age-binned_60+</th>\n",
       "    </tr>\n",
       "  </thead>\n",
       "  <tbody>\n",
       "    <tr>\n",
       "      <th>0</th>\n",
       "      <td>65</td>\n",
       "      <td>6.0</td>\n",
       "      <td>0.88</td>\n",
       "      <td>0.18</td>\n",
       "      <td>0.70</td>\n",
       "      <td>0.10</td>\n",
       "      <td>0.0</td>\n",
       "      <td>0.0</td>\n",
       "      <td>0.0</td>\n",
       "      <td>3.0</td>\n",
       "      <td>...</td>\n",
       "      <td>0</td>\n",
       "      <td>0</td>\n",
       "      <td>1</td>\n",
       "      <td>0</td>\n",
       "      <td>0</td>\n",
       "      <td>0</td>\n",
       "      <td>0</td>\n",
       "      <td>0</td>\n",
       "      <td>0</td>\n",
       "      <td>1</td>\n",
       "    </tr>\n",
       "    <tr>\n",
       "      <th>1</th>\n",
       "      <td>69</td>\n",
       "      <td>7.0</td>\n",
       "      <td>0.66</td>\n",
       "      <td>0.24</td>\n",
       "      <td>0.28</td>\n",
       "      <td>0.53</td>\n",
       "      <td>3.0</td>\n",
       "      <td>0.0</td>\n",
       "      <td>3.0</td>\n",
       "      <td>3.0</td>\n",
       "      <td>...</td>\n",
       "      <td>1</td>\n",
       "      <td>0</td>\n",
       "      <td>1</td>\n",
       "      <td>0</td>\n",
       "      <td>0</td>\n",
       "      <td>0</td>\n",
       "      <td>0</td>\n",
       "      <td>0</td>\n",
       "      <td>0</td>\n",
       "      <td>1</td>\n",
       "    </tr>\n",
       "    <tr>\n",
       "      <th>2</th>\n",
       "      <td>40</td>\n",
       "      <td>8.0</td>\n",
       "      <td>0.89</td>\n",
       "      <td>0.20</td>\n",
       "      <td>0.70</td>\n",
       "      <td>0.10</td>\n",
       "      <td>1.0</td>\n",
       "      <td>0.0</td>\n",
       "      <td>0.0</td>\n",
       "      <td>3.0</td>\n",
       "      <td>...</td>\n",
       "      <td>0</td>\n",
       "      <td>1</td>\n",
       "      <td>0</td>\n",
       "      <td>0</td>\n",
       "      <td>0</td>\n",
       "      <td>0</td>\n",
       "      <td>0</td>\n",
       "      <td>1</td>\n",
       "      <td>0</td>\n",
       "      <td>0</td>\n",
       "    </tr>\n",
       "    <tr>\n",
       "      <th>3</th>\n",
       "      <td>40</td>\n",
       "      <td>6.0</td>\n",
       "      <td>0.51</td>\n",
       "      <td>0.28</td>\n",
       "      <td>0.25</td>\n",
       "      <td>0.52</td>\n",
       "      <td>3.0</td>\n",
       "      <td>50.0</td>\n",
       "      <td>5.0</td>\n",
       "      <td>1.0</td>\n",
       "      <td>...</td>\n",
       "      <td>0</td>\n",
       "      <td>0</td>\n",
       "      <td>1</td>\n",
       "      <td>0</td>\n",
       "      <td>0</td>\n",
       "      <td>0</td>\n",
       "      <td>0</td>\n",
       "      <td>1</td>\n",
       "      <td>0</td>\n",
       "      <td>0</td>\n",
       "    </tr>\n",
       "    <tr>\n",
       "      <th>4</th>\n",
       "      <td>57</td>\n",
       "      <td>8.0</td>\n",
       "      <td>0.76</td>\n",
       "      <td>0.27</td>\n",
       "      <td>0.55</td>\n",
       "      <td>0.18</td>\n",
       "      <td>3.0</td>\n",
       "      <td>0.0</td>\n",
       "      <td>3.0</td>\n",
       "      <td>3.0</td>\n",
       "      <td>...</td>\n",
       "      <td>1</td>\n",
       "      <td>1</td>\n",
       "      <td>0</td>\n",
       "      <td>0</td>\n",
       "      <td>0</td>\n",
       "      <td>0</td>\n",
       "      <td>0</td>\n",
       "      <td>0</td>\n",
       "      <td>1</td>\n",
       "      <td>0</td>\n",
       "    </tr>\n",
       "  </tbody>\n",
       "</table>\n",
       "<p>5 rows × 21 columns</p>\n",
       "</div>"
      ],
      "text/plain": [
       "   Age  Sleep duration  Sleep efficiency  REM sleep percentage  \\\n",
       "0   65             6.0              0.88                  0.18   \n",
       "1   69             7.0              0.66                  0.24   \n",
       "2   40             8.0              0.89                  0.20   \n",
       "3   40             6.0              0.51                  0.28   \n",
       "4   57             8.0              0.76                  0.27   \n",
       "\n",
       "   Deep sleep percentage  Light sleep percentage  Awakenings  \\\n",
       "0                   0.70                    0.10         0.0   \n",
       "1                   0.28                    0.53         3.0   \n",
       "2                   0.70                    0.10         1.0   \n",
       "3                   0.25                    0.52         3.0   \n",
       "4                   0.55                    0.18         3.0   \n",
       "\n",
       "   Caffeine consumption  Alcohol consumption  Exercise frequency  ...  \\\n",
       "0                   0.0                  0.0                 3.0  ...   \n",
       "1                   0.0                  3.0                 3.0  ...   \n",
       "2                   0.0                  0.0                 3.0  ...   \n",
       "3                  50.0                  5.0                 1.0  ...   \n",
       "4                   0.0                  3.0                 3.0  ...   \n",
       "\n",
       "   Gender_Male  Smoking status_No  Smoking status_Yes  age-binned_Child  \\\n",
       "0            0                  0                   1                 0   \n",
       "1            1                  0                   1                 0   \n",
       "2            0                  1                   0                 0   \n",
       "3            0                  0                   1                 0   \n",
       "4            1                  1                   0                 0   \n",
       "\n",
       "   age-binned_Teen  age-binned_20+  age-binned_30+  age-binned_40+  \\\n",
       "0                0               0               0               0   \n",
       "1                0               0               0               0   \n",
       "2                0               0               0               1   \n",
       "3                0               0               0               1   \n",
       "4                0               0               0               0   \n",
       "\n",
       "   age-binned_50+  age-binned_60+  \n",
       "0               0               1  \n",
       "1               0               1  \n",
       "2               0               0  \n",
       "3               0               0  \n",
       "4               1               0  \n",
       "\n",
       "[5 rows x 21 columns]"
      ]
     },
     "execution_count": 36,
     "metadata": {},
     "output_type": "execute_result"
    }
   ],
   "source": [
    "sleep_clean.head()"
   ]
  },
  {
   "cell_type": "code",
   "execution_count": 37,
   "metadata": {},
   "outputs": [
    {
     "data": {
      "text/plain": [
       "Index(['Age', 'Sleep duration', 'Sleep efficiency', 'REM sleep percentage',\n",
       "       'Deep sleep percentage', 'Light sleep percentage', 'Awakenings',\n",
       "       'Caffeine consumption', 'Alcohol consumption', 'Exercise frequency',\n",
       "       'Gender_Female', 'Gender_Male', 'Smoking status_No',\n",
       "       'Smoking status_Yes'],\n",
       "      dtype='object')"
      ]
     },
     "execution_count": 37,
     "metadata": {},
     "output_type": "execute_result"
    }
   ],
   "source": [
    "sleep_clean.columns[0:14]"
   ]
  },
  {
   "cell_type": "code",
   "execution_count": 38,
   "metadata": {},
   "outputs": [],
   "source": [
    "X1 = sleep_clean.drop(columns=['Age', 'Sleep efficiency'])\n",
    "X2 = sleep_clean[sleep_clean.columns[0:14]].drop(columns=['Sleep efficiency'])"
   ]
  },
  {
   "cell_type": "code",
   "execution_count": 39,
   "metadata": {},
   "outputs": [],
   "source": [
    "y = sleep_clean['Sleep efficiency']"
   ]
  },
  {
   "cell_type": "code",
   "execution_count": 40,
   "metadata": {},
   "outputs": [],
   "source": [
    "from sklearn.model_selection import train_test_split"
   ]
  },
  {
   "cell_type": "code",
   "execution_count": 41,
   "metadata": {},
   "outputs": [],
   "source": [
    "X1_train, X1_test, y_train, y_test = train_test_split(X1, y, test_size=0.3, random_state=42)\n",
    "X2_train, X2_test, y_train, y_test = train_test_split(X2, y, test_size=0.3, random_state=42)"
   ]
  },
  {
   "cell_type": "markdown",
   "metadata": {},
   "source": [
    "### In the test split the test_size parameter is set to 0.3, which splits the data into 70% training data and 30% test data."
   ]
  },
  {
   "cell_type": "code",
   "execution_count": 42,
   "metadata": {},
   "outputs": [
    {
     "name": "stdout",
     "output_type": "stream",
     "text": [
      "X1_train shape: (316, 19)\n",
      "X1_test shape: (136, 19)\n",
      "\n",
      "X2_train shape: (316, 13)\n",
      "X2_test shape: (136, 13)\n",
      "\n",
      "y_train shape: (316,)\n",
      "y_test shape: (136,)\n"
     ]
    }
   ],
   "source": [
    "print(\"X1_train shape: {}\".format(X1_train.shape))\n",
    "print(\"X1_test shape: {}\".format(X1_test.shape))\n",
    "print()\n",
    "print(\"X2_train shape: {}\".format(X2_train.shape))\n",
    "print(\"X2_test shape: {}\".format(X2_test.shape))\n",
    "print()\n",
    "print(\"y_train shape: {}\".format(y_train.shape))\n",
    "print(\"y_test shape: {}\".format(y_test.shape))"
   ]
  },
  {
   "cell_type": "markdown",
   "metadata": {},
   "source": [
    "## Model training and exploration"
   ]
  },
  {
   "cell_type": "code",
   "execution_count": 43,
   "metadata": {},
   "outputs": [],
   "source": [
    "from sklearn.ensemble import GradientBoostingRegressor, RandomForestRegressor\n",
    "from sklearn.linear_model import LinearRegression, ElasticNet, Lasso, Ridge\n",
    "from xgboost import XGBRegressor"
   ]
  },
  {
   "cell_type": "code",
   "execution_count": 44,
   "metadata": {},
   "outputs": [],
   "source": [
    "from sklearn.metrics import r2_score, mean_absolute_error, mean_squared_error"
   ]
  },
  {
   "cell_type": "code",
   "execution_count": 45,
   "metadata": {},
   "outputs": [],
   "source": [
    "models = {'GradientBoostingRegressor': GradientBoostingRegressor(random_state=42),\n",
    "          'RandomForestRegressor': RandomForestRegressor(random_state=42),\n",
    "         'LinearRegression': LinearRegression(), 'ElasticNet': ElasticNet(alpha=0.001, random_state=42),\n",
    "          'Lasso': Lasso(alpha=0.001, random_state=42), 'Ridge': Ridge(alpha=0.001, random_state=42),\n",
    "         'XGBRegressor': XGBRegressor(eval_metric=r2_score)}"
   ]
  },
  {
   "cell_type": "code",
   "execution_count": 46,
   "metadata": {},
   "outputs": [],
   "source": [
    "def train(model, X_train, y_train):\n",
    "    model.fit(X_train, y_train)\n",
    "    return model"
   ]
  },
  {
   "cell_type": "code",
   "execution_count": 47,
   "metadata": {},
   "outputs": [],
   "source": [
    "def score(model, X_test, y_test):\n",
    "    predictions = model.predict(X_test)\n",
    "    \n",
    "    r2 = r2_score(y_test, predictions)\n",
    "    mae = mean_absolute_error(y_test, predictions)\n",
    "    mse = mean_squared_error(y_test, predictions)\n",
    "    rmse = np.sqrt(mean_squared_error(y_test, predictions))\n",
    "    rss = np.sum(np.square(y_test-predictions))\n",
    "    \n",
    "    print('RMSE:', rmse)\n",
    "    print('R-Squared:', r2)\n",
    "    print('MSE:', mse)\n",
    "    print('RSS', rss)\n",
    "    print('MAE:', mae)\n",
    "    print()\n",
    "    return [r2, mae, mse, rmse, rss]"
   ]
  },
  {
   "cell_type": "code",
   "execution_count": 48,
   "metadata": {},
   "outputs": [],
   "source": [
    "scoring1 = pd.DataFrame()\n",
    "scoring1['Metric'] = ['R2_score', 'MAE', 'MSE', 'RMSE', 'RSS']"
   ]
  },
  {
   "cell_type": "code",
   "execution_count": 49,
   "metadata": {},
   "outputs": [
    {
     "name": "stdout",
     "output_type": "stream",
     "text": [
      "Performance of GradientBoostingRegressor on Test:\n",
      "================================================\n",
      "Test set:\n",
      "****************\n",
      "RMSE: 0.05049226794064476\n",
      "R-Squared: 0.8746022242215116\n",
      "MSE: 0.002549469121789862\n",
      "RSS 0.34672780056342123\n",
      "MAE: 0.03876946280996794\n",
      "\n",
      "Performance of RandomForestRegressor on Test:\n",
      "================================================\n",
      "Test set:\n",
      "****************\n",
      "RMSE: 0.04896334300337393\n",
      "R-Squared: 0.88208143083457\n",
      "MSE: 0.0023974089580660472\n",
      "RSS 0.3260476182969824\n",
      "MAE: 0.03645915353641458\n",
      "\n",
      "Performance of LinearRegression on Test:\n",
      "================================================\n",
      "Test set:\n",
      "****************\n",
      "RMSE: 0.06073833107839341\n",
      "R-Squared: 0.8185463176277643\n",
      "MSE: 0.0036891448621885307\n",
      "RSS 0.5017237012576402\n",
      "MAE: 0.048651765328775055\n",
      "\n",
      "Performance of ElasticNet on Test:\n",
      "================================================\n",
      "Test set:\n",
      "****************\n",
      "RMSE: 0.06298143915753687\n",
      "R-Squared: 0.8048964204037058\n",
      "MSE: 0.003966661678354518\n",
      "RSS 0.5394659882562145\n",
      "MAE: 0.05161935633111124\n",
      "\n",
      "Performance of Lasso on Test:\n",
      "================================================\n",
      "Test set:\n",
      "****************\n",
      "RMSE: 0.06298872875184137\n",
      "R-Squared: 0.8048512544542693\n",
      "MSE: 0.003967579949773049\n",
      "RSS 0.5395908731691347\n",
      "MAE: 0.051505957329439675\n",
      "\n",
      "Performance of Ridge on Test:\n",
      "================================================\n",
      "Test set:\n",
      "****************\n",
      "RMSE: 0.06074042397386823\n",
      "R-Squared: 0.8185338125053203\n",
      "MSE: 0.003689399104525267\n",
      "RSS 0.5017582782154363\n",
      "MAE: 0.04865798985219501\n",
      "\n",
      "Performance of XGBRegressor on Test:\n",
      "================================================\n",
      "Test set:\n",
      "****************\n",
      "RMSE: 0.054382606056045495\n",
      "R-Squared: 0.8545344652013269\n",
      "MSE: 0.0029574678414470363\n",
      "RSS 0.4022156264367969\n",
      "MAE: 0.04006345185286859\n",
      "\n"
     ]
    }
   ],
   "source": [
    "# Using the first training set X1_train\n",
    "for name, func in models.items():\n",
    "    print(f'Performance of {name} on Test:')\n",
    "    print('=='*24)\n",
    "    print ('Test set:')\n",
    "    print(\"**\"*8)\n",
    "    \n",
    "    model = train(func, X1_train, y_train)\n",
    "    results = score(model, X1_test, y_test)\n",
    "    scoring1[name] = results"
   ]
  },
  {
   "cell_type": "code",
   "execution_count": 50,
   "metadata": {},
   "outputs": [
    {
     "data": {
      "text/html": [
       "<div>\n",
       "<style scoped>\n",
       "    .dataframe tbody tr th:only-of-type {\n",
       "        vertical-align: middle;\n",
       "    }\n",
       "\n",
       "    .dataframe tbody tr th {\n",
       "        vertical-align: top;\n",
       "    }\n",
       "\n",
       "    .dataframe thead th {\n",
       "        text-align: right;\n",
       "    }\n",
       "</style>\n",
       "<table border=\"1\" class=\"dataframe\">\n",
       "  <thead>\n",
       "    <tr style=\"text-align: right;\">\n",
       "      <th></th>\n",
       "      <th>Metric</th>\n",
       "      <th>GradientBoostingRegressor</th>\n",
       "      <th>RandomForestRegressor</th>\n",
       "      <th>LinearRegression</th>\n",
       "      <th>ElasticNet</th>\n",
       "      <th>Lasso</th>\n",
       "      <th>Ridge</th>\n",
       "      <th>XGBRegressor</th>\n",
       "    </tr>\n",
       "  </thead>\n",
       "  <tbody>\n",
       "    <tr>\n",
       "      <th>0</th>\n",
       "      <td>R2_score</td>\n",
       "      <td>0.874602</td>\n",
       "      <td>0.882081</td>\n",
       "      <td>0.818546</td>\n",
       "      <td>0.804896</td>\n",
       "      <td>0.804851</td>\n",
       "      <td>0.818534</td>\n",
       "      <td>0.854534</td>\n",
       "    </tr>\n",
       "    <tr>\n",
       "      <th>1</th>\n",
       "      <td>MAE</td>\n",
       "      <td>0.038769</td>\n",
       "      <td>0.036459</td>\n",
       "      <td>0.048652</td>\n",
       "      <td>0.051619</td>\n",
       "      <td>0.051506</td>\n",
       "      <td>0.048658</td>\n",
       "      <td>0.040063</td>\n",
       "    </tr>\n",
       "    <tr>\n",
       "      <th>2</th>\n",
       "      <td>MSE</td>\n",
       "      <td>0.002549</td>\n",
       "      <td>0.002397</td>\n",
       "      <td>0.003689</td>\n",
       "      <td>0.003967</td>\n",
       "      <td>0.003968</td>\n",
       "      <td>0.003689</td>\n",
       "      <td>0.002957</td>\n",
       "    </tr>\n",
       "    <tr>\n",
       "      <th>3</th>\n",
       "      <td>RMSE</td>\n",
       "      <td>0.050492</td>\n",
       "      <td>0.048963</td>\n",
       "      <td>0.060738</td>\n",
       "      <td>0.062981</td>\n",
       "      <td>0.062989</td>\n",
       "      <td>0.060740</td>\n",
       "      <td>0.054383</td>\n",
       "    </tr>\n",
       "    <tr>\n",
       "      <th>4</th>\n",
       "      <td>RSS</td>\n",
       "      <td>0.346728</td>\n",
       "      <td>0.326048</td>\n",
       "      <td>0.501724</td>\n",
       "      <td>0.539466</td>\n",
       "      <td>0.539591</td>\n",
       "      <td>0.501758</td>\n",
       "      <td>0.402216</td>\n",
       "    </tr>\n",
       "  </tbody>\n",
       "</table>\n",
       "</div>"
      ],
      "text/plain": [
       "     Metric  GradientBoostingRegressor  RandomForestRegressor  \\\n",
       "0  R2_score                   0.874602               0.882081   \n",
       "1       MAE                   0.038769               0.036459   \n",
       "2       MSE                   0.002549               0.002397   \n",
       "3      RMSE                   0.050492               0.048963   \n",
       "4       RSS                   0.346728               0.326048   \n",
       "\n",
       "   LinearRegression  ElasticNet     Lasso     Ridge  XGBRegressor  \n",
       "0          0.818546    0.804896  0.804851  0.818534      0.854534  \n",
       "1          0.048652    0.051619  0.051506  0.048658      0.040063  \n",
       "2          0.003689    0.003967  0.003968  0.003689      0.002957  \n",
       "3          0.060738    0.062981  0.062989  0.060740      0.054383  \n",
       "4          0.501724    0.539466  0.539591  0.501758      0.402216  "
      ]
     },
     "execution_count": 50,
     "metadata": {},
     "output_type": "execute_result"
    }
   ],
   "source": [
    "scoring1"
   ]
  },
  {
   "cell_type": "markdown",
   "metadata": {},
   "source": [
    "### The first training set makes use of the binned ages as categories rather than age as continuous data."
   ]
  },
  {
   "cell_type": "code",
   "execution_count": 51,
   "metadata": {},
   "outputs": [],
   "source": [
    "scoring2 = pd.DataFrame()\n",
    "scoring2['Metric'] = ['R2_score', 'MAE', 'MSE', 'RMSE', 'RSS']"
   ]
  },
  {
   "cell_type": "code",
   "execution_count": 52,
   "metadata": {},
   "outputs": [
    {
     "name": "stdout",
     "output_type": "stream",
     "text": [
      "Performance of GradientBoostingRegressor on Test:\n",
      "================================================\n",
      "Test set:\n",
      "****************\n",
      "RMSE: 0.04936201701297427\n",
      "R-Squared: 0.8801533575091768\n",
      "MSE: 0.002436608723589161\n",
      "RSS 0.3313787864081259\n",
      "MAE: 0.03794856104012073\n",
      "\n",
      "Performance of RandomForestRegressor on Test:\n",
      "================================================\n",
      "Test set:\n",
      "****************\n",
      "RMSE: 0.047836711382392906\n",
      "R-Squared: 0.8874455400868833\n",
      "MSE: 0.002288350955882359\n",
      "RSS 0.31121573000000086\n",
      "MAE: 0.036147794117647084\n",
      "\n",
      "Performance of LinearRegression on Test:\n",
      "================================================\n",
      "Test set:\n",
      "****************\n",
      "RMSE: 0.060394386356529335\n",
      "R-Squared: 0.8205955451795204\n",
      "MSE: 0.0036474819033817363\n",
      "RSS 0.49605753885991616\n",
      "MAE: 0.04866857384722488\n",
      "\n",
      "Performance of ElasticNet on Test:\n",
      "================================================\n",
      "Test set:\n",
      "****************\n",
      "RMSE: 0.06290008468426475\n",
      "R-Squared: 0.8054001338058796\n",
      "MSE: 0.003956420653287677\n",
      "RSS 0.5380732088471241\n",
      "MAE: 0.05207289379523159\n",
      "\n",
      "Performance of Lasso on Test:\n",
      "================================================\n",
      "Test set:\n",
      "****************\n",
      "RMSE: 0.06297278331167683\n",
      "R-Squared: 0.8049500447884528\n",
      "MSE: 0.003965571438019403\n",
      "RSS 0.5393177155706388\n",
      "MAE: 0.05211858616279636\n",
      "\n",
      "Performance of Ridge on Test:\n",
      "================================================\n",
      "Test set:\n",
      "****************\n",
      "RMSE: 0.06039702107686017\n",
      "R-Squared: 0.820579891708942\n",
      "MSE: 0.0036478001549586922\n",
      "RSS 0.49610082107438214\n",
      "MAE: 0.04867447390614337\n",
      "\n",
      "Performance of XGBRegressor on Test:\n",
      "================================================\n",
      "Test set:\n",
      "****************\n",
      "RMSE: 0.051726771741915985\n",
      "R-Squared: 0.8683954734751598\n",
      "MSE: 0.002675658914840278\n",
      "RSS 0.36388961241827783\n",
      "MAE: 0.0380347960135516\n",
      "\n"
     ]
    }
   ],
   "source": [
    "# Using the second training set X2_train\n",
    "for name, func in models.items():\n",
    "    print(f'Performance of {name} on Test:')\n",
    "    print('=='*24)\n",
    "    print ('Test set:')\n",
    "    print(\"**\"*8)\n",
    "    \n",
    "    model = train(func, X2_train, y_train)\n",
    "    results = score(model, X2_test, y_test)\n",
    "    scoring2[name] = results"
   ]
  },
  {
   "cell_type": "code",
   "execution_count": 53,
   "metadata": {},
   "outputs": [
    {
     "data": {
      "text/html": [
       "<div>\n",
       "<style scoped>\n",
       "    .dataframe tbody tr th:only-of-type {\n",
       "        vertical-align: middle;\n",
       "    }\n",
       "\n",
       "    .dataframe tbody tr th {\n",
       "        vertical-align: top;\n",
       "    }\n",
       "\n",
       "    .dataframe thead th {\n",
       "        text-align: right;\n",
       "    }\n",
       "</style>\n",
       "<table border=\"1\" class=\"dataframe\">\n",
       "  <thead>\n",
       "    <tr style=\"text-align: right;\">\n",
       "      <th></th>\n",
       "      <th>Metric</th>\n",
       "      <th>GradientBoostingRegressor</th>\n",
       "      <th>RandomForestRegressor</th>\n",
       "      <th>LinearRegression</th>\n",
       "      <th>ElasticNet</th>\n",
       "      <th>Lasso</th>\n",
       "      <th>Ridge</th>\n",
       "      <th>XGBRegressor</th>\n",
       "    </tr>\n",
       "  </thead>\n",
       "  <tbody>\n",
       "    <tr>\n",
       "      <th>0</th>\n",
       "      <td>R2_score</td>\n",
       "      <td>0.880153</td>\n",
       "      <td>0.887446</td>\n",
       "      <td>0.820596</td>\n",
       "      <td>0.805400</td>\n",
       "      <td>0.804950</td>\n",
       "      <td>0.820580</td>\n",
       "      <td>0.868395</td>\n",
       "    </tr>\n",
       "    <tr>\n",
       "      <th>1</th>\n",
       "      <td>MAE</td>\n",
       "      <td>0.037949</td>\n",
       "      <td>0.036148</td>\n",
       "      <td>0.048669</td>\n",
       "      <td>0.052073</td>\n",
       "      <td>0.052119</td>\n",
       "      <td>0.048674</td>\n",
       "      <td>0.038035</td>\n",
       "    </tr>\n",
       "    <tr>\n",
       "      <th>2</th>\n",
       "      <td>MSE</td>\n",
       "      <td>0.002437</td>\n",
       "      <td>0.002288</td>\n",
       "      <td>0.003647</td>\n",
       "      <td>0.003956</td>\n",
       "      <td>0.003966</td>\n",
       "      <td>0.003648</td>\n",
       "      <td>0.002676</td>\n",
       "    </tr>\n",
       "    <tr>\n",
       "      <th>3</th>\n",
       "      <td>RMSE</td>\n",
       "      <td>0.049362</td>\n",
       "      <td>0.047837</td>\n",
       "      <td>0.060394</td>\n",
       "      <td>0.062900</td>\n",
       "      <td>0.062973</td>\n",
       "      <td>0.060397</td>\n",
       "      <td>0.051727</td>\n",
       "    </tr>\n",
       "    <tr>\n",
       "      <th>4</th>\n",
       "      <td>RSS</td>\n",
       "      <td>0.331379</td>\n",
       "      <td>0.311216</td>\n",
       "      <td>0.496058</td>\n",
       "      <td>0.538073</td>\n",
       "      <td>0.539318</td>\n",
       "      <td>0.496101</td>\n",
       "      <td>0.363890</td>\n",
       "    </tr>\n",
       "  </tbody>\n",
       "</table>\n",
       "</div>"
      ],
      "text/plain": [
       "     Metric  GradientBoostingRegressor  RandomForestRegressor  \\\n",
       "0  R2_score                   0.880153               0.887446   \n",
       "1       MAE                   0.037949               0.036148   \n",
       "2       MSE                   0.002437               0.002288   \n",
       "3      RMSE                   0.049362               0.047837   \n",
       "4       RSS                   0.331379               0.311216   \n",
       "\n",
       "   LinearRegression  ElasticNet     Lasso     Ridge  XGBRegressor  \n",
       "0          0.820596    0.805400  0.804950  0.820580      0.868395  \n",
       "1          0.048669    0.052073  0.052119  0.048674      0.038035  \n",
       "2          0.003647    0.003956  0.003966  0.003648      0.002676  \n",
       "3          0.060394    0.062900  0.062973  0.060397      0.051727  \n",
       "4          0.496058    0.538073  0.539318  0.496101      0.363890  "
      ]
     },
     "execution_count": 53,
     "metadata": {},
     "output_type": "execute_result"
    }
   ],
   "source": [
    "scoring2"
   ]
  },
  {
   "cell_type": "markdown",
   "metadata": {},
   "source": [
    "### The second training set makes use of the ages as continuous data."
   ]
  },
  {
   "cell_type": "markdown",
   "metadata": {},
   "source": [
    "### Scaling training data"
   ]
  },
  {
   "cell_type": "code",
   "execution_count": 54,
   "metadata": {},
   "outputs": [],
   "source": [
    "from sklearn.preprocessing import MinMaxScaler"
   ]
  },
  {
   "cell_type": "code",
   "execution_count": 55,
   "metadata": {},
   "outputs": [],
   "source": [
    "scaler = MinMaxScaler()"
   ]
  },
  {
   "cell_type": "code",
   "execution_count": 56,
   "metadata": {},
   "outputs": [],
   "source": [
    "# Fit and transform the training data\n",
    "X1_train_scaled = scaler.fit_transform(X1_train)\n",
    "X1_test_scaled = scaler.fit_transform(X1_test)\n",
    "\n",
    "X2_train_scaled = scaler.fit_transform(X2_train)\n",
    "X2_test_scaled = scaler.fit_transform(X2_test)"
   ]
  },
  {
   "cell_type": "code",
   "execution_count": 57,
   "metadata": {},
   "outputs": [],
   "source": [
    "scoring3 = pd.DataFrame()\n",
    "scoring3['Metric'] = ['R2_score', 'MAE', 'MSE', 'RMSE', 'RSS']"
   ]
  },
  {
   "cell_type": "code",
   "execution_count": 58,
   "metadata": {},
   "outputs": [
    {
     "name": "stdout",
     "output_type": "stream",
     "text": [
      "Performance of GradientBoostingRegressor on Test:\n",
      "================================================\n",
      "Test set:\n",
      "****************\n",
      "RMSE: 0.049944345715004744\n",
      "R-Squared: 0.8773089923605246\n",
      "MSE: 0.0024944376688999124\n",
      "RSS 0.33924352297038807\n",
      "MAE: 0.03709515659413608\n",
      "\n",
      "Performance of RandomForestRegressor on Test:\n",
      "================================================\n",
      "Test set:\n",
      "****************\n",
      "RMSE: 0.04828441314286227\n",
      "R-Squared: 0.8853288965630117\n",
      "MSE: 0.0023313845525506104\n",
      "RSS 0.317068299146883\n",
      "MAE: 0.03640341211484598\n",
      "\n",
      "Performance of LinearRegression on Test:\n",
      "================================================\n",
      "Test set:\n",
      "****************\n",
      "RMSE: 0.05950084534962235\n",
      "R-Squared: 0.8258648882680907\n",
      "MSE: 0.0035403505973196758\n",
      "RSS 0.4814876812354759\n",
      "MAE: 0.04652380020986976\n",
      "\n",
      "Performance of ElasticNet on Test:\n",
      "================================================\n",
      "Test set:\n",
      "****************\n",
      "RMSE: 0.05903137446231929\n",
      "R-Squared: 0.8286019535809668\n",
      "MSE: 0.0034847031709105626\n",
      "RSS 0.4739196312438365\n",
      "MAE: 0.046649138508634856\n",
      "\n",
      "Performance of Lasso on Test:\n",
      "================================================\n",
      "Test set:\n",
      "****************\n",
      "RMSE: 0.05882505686307817\n",
      "R-Squared: 0.8297979493387694\n",
      "MSE: 0.0034603873149443806\n",
      "RSS 0.47061267483243574\n",
      "MAE: 0.046593740091633966\n",
      "\n",
      "Performance of Ridge on Test:\n",
      "================================================\n",
      "Test set:\n",
      "****************\n",
      "RMSE: 0.05950073357513949\n",
      "R-Squared: 0.8258655425056453\n",
      "MSE: 0.003540337295979732\n",
      "RSS 0.4814858722532436\n",
      "MAE: 0.04652432816828728\n",
      "\n",
      "Performance of XGBRegressor on Test:\n",
      "================================================\n",
      "Test set:\n",
      "****************\n",
      "RMSE: 0.05361533068749611\n",
      "R-Squared: 0.8586102082081049\n",
      "MSE: 0.0028746036847295624\n",
      "RSS 0.3909461011232205\n",
      "MAE: 0.038595350954462496\n",
      "\n"
     ]
    }
   ],
   "source": [
    "# Using the third training set X1_train_scaled\n",
    "for name, func in models.items():\n",
    "    print(f'Performance of {name} on Test:')\n",
    "    print('=='*24)\n",
    "    print ('Test set:')\n",
    "    print(\"**\"*8)\n",
    "    \n",
    "    model = train(func, X1_train_scaled, y_train)\n",
    "    results = score(model, X1_test_scaled, y_test)\n",
    "    scoring3[name] = results"
   ]
  },
  {
   "cell_type": "code",
   "execution_count": 59,
   "metadata": {
    "scrolled": true
   },
   "outputs": [
    {
     "data": {
      "text/html": [
       "<div>\n",
       "<style scoped>\n",
       "    .dataframe tbody tr th:only-of-type {\n",
       "        vertical-align: middle;\n",
       "    }\n",
       "\n",
       "    .dataframe tbody tr th {\n",
       "        vertical-align: top;\n",
       "    }\n",
       "\n",
       "    .dataframe thead th {\n",
       "        text-align: right;\n",
       "    }\n",
       "</style>\n",
       "<table border=\"1\" class=\"dataframe\">\n",
       "  <thead>\n",
       "    <tr style=\"text-align: right;\">\n",
       "      <th></th>\n",
       "      <th>Metric</th>\n",
       "      <th>GradientBoostingRegressor</th>\n",
       "      <th>RandomForestRegressor</th>\n",
       "      <th>LinearRegression</th>\n",
       "      <th>ElasticNet</th>\n",
       "      <th>Lasso</th>\n",
       "      <th>Ridge</th>\n",
       "      <th>XGBRegressor</th>\n",
       "    </tr>\n",
       "  </thead>\n",
       "  <tbody>\n",
       "    <tr>\n",
       "      <th>0</th>\n",
       "      <td>R2_score</td>\n",
       "      <td>0.877309</td>\n",
       "      <td>0.885329</td>\n",
       "      <td>0.825865</td>\n",
       "      <td>0.828602</td>\n",
       "      <td>0.829798</td>\n",
       "      <td>0.825866</td>\n",
       "      <td>0.858610</td>\n",
       "    </tr>\n",
       "    <tr>\n",
       "      <th>1</th>\n",
       "      <td>MAE</td>\n",
       "      <td>0.037095</td>\n",
       "      <td>0.036403</td>\n",
       "      <td>0.046524</td>\n",
       "      <td>0.046649</td>\n",
       "      <td>0.046594</td>\n",
       "      <td>0.046524</td>\n",
       "      <td>0.038595</td>\n",
       "    </tr>\n",
       "    <tr>\n",
       "      <th>2</th>\n",
       "      <td>MSE</td>\n",
       "      <td>0.002494</td>\n",
       "      <td>0.002331</td>\n",
       "      <td>0.003540</td>\n",
       "      <td>0.003485</td>\n",
       "      <td>0.003460</td>\n",
       "      <td>0.003540</td>\n",
       "      <td>0.002875</td>\n",
       "    </tr>\n",
       "    <tr>\n",
       "      <th>3</th>\n",
       "      <td>RMSE</td>\n",
       "      <td>0.049944</td>\n",
       "      <td>0.048284</td>\n",
       "      <td>0.059501</td>\n",
       "      <td>0.059031</td>\n",
       "      <td>0.058825</td>\n",
       "      <td>0.059501</td>\n",
       "      <td>0.053615</td>\n",
       "    </tr>\n",
       "    <tr>\n",
       "      <th>4</th>\n",
       "      <td>RSS</td>\n",
       "      <td>0.339244</td>\n",
       "      <td>0.317068</td>\n",
       "      <td>0.481488</td>\n",
       "      <td>0.473920</td>\n",
       "      <td>0.470613</td>\n",
       "      <td>0.481486</td>\n",
       "      <td>0.390946</td>\n",
       "    </tr>\n",
       "  </tbody>\n",
       "</table>\n",
       "</div>"
      ],
      "text/plain": [
       "     Metric  GradientBoostingRegressor  RandomForestRegressor  \\\n",
       "0  R2_score                   0.877309               0.885329   \n",
       "1       MAE                   0.037095               0.036403   \n",
       "2       MSE                   0.002494               0.002331   \n",
       "3      RMSE                   0.049944               0.048284   \n",
       "4       RSS                   0.339244               0.317068   \n",
       "\n",
       "   LinearRegression  ElasticNet     Lasso     Ridge  XGBRegressor  \n",
       "0          0.825865    0.828602  0.829798  0.825866      0.858610  \n",
       "1          0.046524    0.046649  0.046594  0.046524      0.038595  \n",
       "2          0.003540    0.003485  0.003460  0.003540      0.002875  \n",
       "3          0.059501    0.059031  0.058825  0.059501      0.053615  \n",
       "4          0.481488    0.473920  0.470613  0.481486      0.390946  "
      ]
     },
     "execution_count": 59,
     "metadata": {},
     "output_type": "execute_result"
    }
   ],
   "source": [
    "scoring3"
   ]
  },
  {
   "cell_type": "code",
   "execution_count": 60,
   "metadata": {},
   "outputs": [],
   "source": [
    "scoring4 = pd.DataFrame()\n",
    "scoring4['Metric'] = ['R2_score', 'MAE', 'MSE', 'RMSE', 'RSS']"
   ]
  },
  {
   "cell_type": "code",
   "execution_count": 61,
   "metadata": {},
   "outputs": [
    {
     "name": "stdout",
     "output_type": "stream",
     "text": [
      "Performance of GradientBoostingRegressor on Test:\n",
      "================================================\n",
      "Test set:\n",
      "****************\n",
      "RMSE: 0.050245859913531754\n",
      "R-Squared: 0.8758231487085102\n",
      "MSE: 0.002524646438450257\n",
      "RSS 0.34335191562923495\n",
      "MAE: 0.03755820137637095\n",
      "\n",
      "Performance of RandomForestRegressor on Test:\n",
      "================================================\n",
      "Test set:\n",
      "****************\n",
      "RMSE: 0.047426853122032354\n",
      "R-Squared: 0.8893659794406596\n",
      "MSE: 0.0022493063970588302\n",
      "RSS 0.3059056700000009\n",
      "MAE: 0.03667279411764711\n",
      "\n",
      "Performance of LinearRegression on Test:\n",
      "================================================\n",
      "Test set:\n",
      "****************\n",
      "RMSE: 0.05933652690044294\n",
      "R-Squared: 0.8268253486260864\n",
      "MSE: 0.003520823424606989\n",
      "RSS 0.4788319857465505\n",
      "MAE: 0.04685741401353393\n",
      "\n",
      "Performance of ElasticNet on Test:\n",
      "================================================\n",
      "Test set:\n",
      "****************\n",
      "RMSE: 0.05890403190254175\n",
      "R-Squared: 0.8293406361661315\n",
      "MSE: 0.0034696849743756568\n",
      "RSS 0.4718771565150893\n",
      "MAE: 0.047084849473847626\n",
      "\n",
      "Performance of Lasso on Test:\n",
      "================================================\n",
      "Test set:\n",
      "****************\n",
      "RMSE: 0.05872555462986771\n",
      "R-Squared: 0.8303732538741112\n",
      "MSE: 0.003448690766585577\n",
      "RSS 0.4690219442556385\n",
      "MAE: 0.04707248193737851\n",
      "\n",
      "Performance of Ridge on Test:\n",
      "================================================\n",
      "Test set:\n",
      "****************\n",
      "RMSE: 0.05933649954335656\n",
      "R-Squared: 0.8268255083102827\n",
      "MSE: 0.003520820178058753\n",
      "RSS 0.47883154421599045\n",
      "MAE: 0.04685844813544687\n",
      "\n",
      "Performance of XGBRegressor on Test:\n",
      "================================================\n",
      "Test set:\n",
      "****************\n",
      "RMSE: 0.05137914856953115\n",
      "R-Squared: 0.8701583926384702\n",
      "MSE: 0.0026398169077299547\n",
      "RSS 0.35901509945127386\n",
      "MAE: 0.03846704214811325\n",
      "\n"
     ]
    }
   ],
   "source": [
    "# Using the fourth training set X2_train_scaled\n",
    "for name, func in models.items():\n",
    "    print(f'Performance of {name} on Test:')\n",
    "    print('=='*24)\n",
    "    print ('Test set:')\n",
    "    print(\"**\"*8)\n",
    "    \n",
    "    model = train(func, X2_train_scaled, y_train)\n",
    "    results = score(model, X2_test_scaled, y_test)\n",
    "    scoring4[name] = results"
   ]
  },
  {
   "cell_type": "code",
   "execution_count": 62,
   "metadata": {},
   "outputs": [
    {
     "data": {
      "text/html": [
       "<div>\n",
       "<style scoped>\n",
       "    .dataframe tbody tr th:only-of-type {\n",
       "        vertical-align: middle;\n",
       "    }\n",
       "\n",
       "    .dataframe tbody tr th {\n",
       "        vertical-align: top;\n",
       "    }\n",
       "\n",
       "    .dataframe thead th {\n",
       "        text-align: right;\n",
       "    }\n",
       "</style>\n",
       "<table border=\"1\" class=\"dataframe\">\n",
       "  <thead>\n",
       "    <tr style=\"text-align: right;\">\n",
       "      <th></th>\n",
       "      <th>Metric</th>\n",
       "      <th>GradientBoostingRegressor</th>\n",
       "      <th>RandomForestRegressor</th>\n",
       "      <th>LinearRegression</th>\n",
       "      <th>ElasticNet</th>\n",
       "      <th>Lasso</th>\n",
       "      <th>Ridge</th>\n",
       "      <th>XGBRegressor</th>\n",
       "    </tr>\n",
       "  </thead>\n",
       "  <tbody>\n",
       "    <tr>\n",
       "      <th>0</th>\n",
       "      <td>R2_score</td>\n",
       "      <td>0.875823</td>\n",
       "      <td>0.889366</td>\n",
       "      <td>0.826825</td>\n",
       "      <td>0.829341</td>\n",
       "      <td>0.830373</td>\n",
       "      <td>0.826826</td>\n",
       "      <td>0.870158</td>\n",
       "    </tr>\n",
       "    <tr>\n",
       "      <th>1</th>\n",
       "      <td>MAE</td>\n",
       "      <td>0.037558</td>\n",
       "      <td>0.036673</td>\n",
       "      <td>0.046857</td>\n",
       "      <td>0.047085</td>\n",
       "      <td>0.047072</td>\n",
       "      <td>0.046858</td>\n",
       "      <td>0.038467</td>\n",
       "    </tr>\n",
       "    <tr>\n",
       "      <th>2</th>\n",
       "      <td>MSE</td>\n",
       "      <td>0.002525</td>\n",
       "      <td>0.002249</td>\n",
       "      <td>0.003521</td>\n",
       "      <td>0.003470</td>\n",
       "      <td>0.003449</td>\n",
       "      <td>0.003521</td>\n",
       "      <td>0.002640</td>\n",
       "    </tr>\n",
       "    <tr>\n",
       "      <th>3</th>\n",
       "      <td>RMSE</td>\n",
       "      <td>0.050246</td>\n",
       "      <td>0.047427</td>\n",
       "      <td>0.059337</td>\n",
       "      <td>0.058904</td>\n",
       "      <td>0.058726</td>\n",
       "      <td>0.059336</td>\n",
       "      <td>0.051379</td>\n",
       "    </tr>\n",
       "    <tr>\n",
       "      <th>4</th>\n",
       "      <td>RSS</td>\n",
       "      <td>0.343352</td>\n",
       "      <td>0.305906</td>\n",
       "      <td>0.478832</td>\n",
       "      <td>0.471877</td>\n",
       "      <td>0.469022</td>\n",
       "      <td>0.478832</td>\n",
       "      <td>0.359015</td>\n",
       "    </tr>\n",
       "  </tbody>\n",
       "</table>\n",
       "</div>"
      ],
      "text/plain": [
       "     Metric  GradientBoostingRegressor  RandomForestRegressor  \\\n",
       "0  R2_score                   0.875823               0.889366   \n",
       "1       MAE                   0.037558               0.036673   \n",
       "2       MSE                   0.002525               0.002249   \n",
       "3      RMSE                   0.050246               0.047427   \n",
       "4       RSS                   0.343352               0.305906   \n",
       "\n",
       "   LinearRegression  ElasticNet     Lasso     Ridge  XGBRegressor  \n",
       "0          0.826825    0.829341  0.830373  0.826826      0.870158  \n",
       "1          0.046857    0.047085  0.047072  0.046858      0.038467  \n",
       "2          0.003521    0.003470  0.003449  0.003521      0.002640  \n",
       "3          0.059337    0.058904  0.058726  0.059336      0.051379  \n",
       "4          0.478832    0.471877  0.469022  0.478832      0.359015  "
      ]
     },
     "execution_count": 62,
     "metadata": {},
     "output_type": "execute_result"
    }
   ],
   "source": [
    "scoring4"
   ]
  },
  {
   "cell_type": "markdown",
   "metadata": {},
   "source": [
    "### We select RandomForestRegressor and the scaled dataset of using the ages as continuous data as our best set for the best model scores."
   ]
  },
  {
   "cell_type": "markdown",
   "metadata": {},
   "source": [
    "## Final Model Training"
   ]
  },
  {
   "cell_type": "markdown",
   "metadata": {},
   "source": [
    "### Hyperparameter tuning"
   ]
  },
  {
   "cell_type": "code",
   "execution_count": 63,
   "metadata": {},
   "outputs": [],
   "source": [
    "# Using Grid Search for hyper parameter tuning\n",
    "from sklearn.model_selection import GridSearchCV "
   ]
  },
  {
   "cell_type": "code",
   "execution_count": 64,
   "metadata": {},
   "outputs": [],
   "source": [
    "rf_model = RandomForestRegressor(random_state=42)"
   ]
  },
  {
   "cell_type": "code",
   "execution_count": 65,
   "metadata": {},
   "outputs": [
    {
     "data": {
      "text/plain": [
       "dict_keys(['bootstrap', 'ccp_alpha', 'criterion', 'max_depth', 'max_features', 'max_leaf_nodes', 'max_samples', 'min_impurity_decrease', 'min_samples_leaf', 'min_samples_split', 'min_weight_fraction_leaf', 'n_estimators', 'n_jobs', 'oob_score', 'random_state', 'verbose', 'warm_start'])"
      ]
     },
     "execution_count": 65,
     "metadata": {},
     "output_type": "execute_result"
    }
   ],
   "source": [
    "# Getting parameters of model that can be tuned\n",
    "rf_model.get_params().keys()"
   ]
  },
  {
   "cell_type": "code",
   "execution_count": 66,
   "metadata": {},
   "outputs": [],
   "source": [
    "# We need to find the best parameters of the RF in order to obtain the best possible performance.\n",
    "\n",
    "param_grid = {\n",
    "    'max_depth' : [3,5,7,9,10],\n",
    "    'criterion': ['squared_error', 'absolute_error', 'friedman_mse'],\n",
    "    'n_estimators': [1,2,4,8,10,16,32,64,100,200],\n",
    "    'min_samples_split': [1,2,5,8,10,11,15,20,25,50,55,60,80,100],\n",
    "}"
   ]
  },
  {
   "cell_type": "code",
   "execution_count": 67,
   "metadata": {},
   "outputs": [
    {
     "name": "stdout",
     "output_type": "stream",
     "text": [
      "0.8487421383371647\n",
      "{'criterion': 'friedman_mse', 'max_depth': 9, 'min_samples_split': 8, 'n_estimators': 8}\n"
     ]
    }
   ],
   "source": [
    "grid_search = GridSearchCV(estimator=rf_model, param_grid=param_grid, scoring='r2',cv=5,n_jobs=3)\n",
    "grid_search.fit(X2_train_scaled,y_train)\n",
    "\n",
    "print(grid_search.best_score_)\n",
    "print(grid_search.best_params_)"
   ]
  },
  {
   "cell_type": "code",
   "execution_count": 68,
   "metadata": {},
   "outputs": [],
   "source": [
    "rf_model_search = RandomForestRegressor(criterion = 'friedman_mse', max_depth = 9,\n",
    "                                       min_samples_split = 8, n_estimators = 8, random_state = 42)"
   ]
  },
  {
   "cell_type": "code",
   "execution_count": 69,
   "metadata": {},
   "outputs": [
    {
     "data": {
      "text/plain": [
       "RandomForestRegressor(criterion='friedman_mse', max_depth=9,\n",
       "                      min_samples_split=8, n_estimators=8, random_state=42)"
      ]
     },
     "execution_count": 69,
     "metadata": {},
     "output_type": "execute_result"
    }
   ],
   "source": [
    "rf_model_search.fit(X2_train_scaled, y_train)"
   ]
  },
  {
   "cell_type": "code",
   "execution_count": 70,
   "metadata": {},
   "outputs": [
    {
     "name": "stdout",
     "output_type": "stream",
     "text": [
      "RMSE: 0.05029351172335004\n",
      "R-Squared: 0.8755875051115165\n",
      "MSE: 0.0025294373214667476\n",
      "RSS 0.34400347571947765\n",
      "MAE: 0.03916323622374326\n",
      "\n"
     ]
    }
   ],
   "source": [
    "result = score(rf_model_search, X2_test_scaled, y_test)"
   ]
  },
  {
   "cell_type": "code",
   "execution_count": 71,
   "metadata": {},
   "outputs": [],
   "source": [
    "scores = pd.DataFrame()\n",
    "scores['Metric'] = ['R2_score', 'MAE', 'MSE', 'RMSE', 'RSS']\n",
    "scores['RandomForestRegressor'] = result"
   ]
  },
  {
   "cell_type": "code",
   "execution_count": 72,
   "metadata": {},
   "outputs": [
    {
     "data": {
      "text/html": [
       "<div>\n",
       "<style scoped>\n",
       "    .dataframe tbody tr th:only-of-type {\n",
       "        vertical-align: middle;\n",
       "    }\n",
       "\n",
       "    .dataframe tbody tr th {\n",
       "        vertical-align: top;\n",
       "    }\n",
       "\n",
       "    .dataframe thead th {\n",
       "        text-align: right;\n",
       "    }\n",
       "</style>\n",
       "<table border=\"1\" class=\"dataframe\">\n",
       "  <thead>\n",
       "    <tr style=\"text-align: right;\">\n",
       "      <th></th>\n",
       "      <th>Metric</th>\n",
       "      <th>RandomForestRegressor</th>\n",
       "    </tr>\n",
       "  </thead>\n",
       "  <tbody>\n",
       "    <tr>\n",
       "      <th>0</th>\n",
       "      <td>R2_score</td>\n",
       "      <td>0.875588</td>\n",
       "    </tr>\n",
       "    <tr>\n",
       "      <th>1</th>\n",
       "      <td>MAE</td>\n",
       "      <td>0.039163</td>\n",
       "    </tr>\n",
       "    <tr>\n",
       "      <th>2</th>\n",
       "      <td>MSE</td>\n",
       "      <td>0.002529</td>\n",
       "    </tr>\n",
       "    <tr>\n",
       "      <th>3</th>\n",
       "      <td>RMSE</td>\n",
       "      <td>0.050294</td>\n",
       "    </tr>\n",
       "    <tr>\n",
       "      <th>4</th>\n",
       "      <td>RSS</td>\n",
       "      <td>0.344003</td>\n",
       "    </tr>\n",
       "  </tbody>\n",
       "</table>\n",
       "</div>"
      ],
      "text/plain": [
       "     Metric  RandomForestRegressor\n",
       "0  R2_score               0.875588\n",
       "1       MAE               0.039163\n",
       "2       MSE               0.002529\n",
       "3      RMSE               0.050294\n",
       "4       RSS               0.344003"
      ]
     },
     "execution_count": 72,
     "metadata": {},
     "output_type": "execute_result"
    }
   ],
   "source": [
    "scores"
   ]
  },
  {
   "cell_type": "markdown",
   "metadata": {},
   "source": [
    "### The metrics above tell us that training the model with the default values of its hyper parameters give us a better metric than other set of values after performing hyperparameter tuning using Grid Search."
   ]
  },
  {
   "cell_type": "markdown",
   "metadata": {},
   "source": [
    "### Final model"
   ]
  },
  {
   "cell_type": "code",
   "execution_count": 73,
   "metadata": {},
   "outputs": [
    {
     "data": {
      "text/plain": [
       "RandomForestRegressor(random_state=42)"
      ]
     },
     "execution_count": 73,
     "metadata": {},
     "output_type": "execute_result"
    }
   ],
   "source": [
    "rf_model_final = RandomForestRegressor(random_state=42)\n",
    "rf_model_final.fit(X2_train_scaled, y_train)"
   ]
  },
  {
   "cell_type": "code",
   "execution_count": 74,
   "metadata": {},
   "outputs": [
    {
     "name": "stdout",
     "output_type": "stream",
     "text": [
      "RMSE: 0.047426853122032354\n",
      "R-Squared: 0.8893659794406596\n",
      "MSE: 0.0022493063970588302\n",
      "RSS 0.3059056700000009\n",
      "MAE: 0.03667279411764711\n",
      "\n"
     ]
    }
   ],
   "source": [
    "pred_final = rf_model_final.predict(X2_test_scaled)\n",
    "result_final = score(rf_model_final, X2_test_scaled, y_test)"
   ]
  },
  {
   "cell_type": "code",
   "execution_count": 75,
   "metadata": {},
   "outputs": [
    {
     "data": {
      "text/html": [
       "<div>\n",
       "<style scoped>\n",
       "    .dataframe tbody tr th:only-of-type {\n",
       "        vertical-align: middle;\n",
       "    }\n",
       "\n",
       "    .dataframe tbody tr th {\n",
       "        vertical-align: top;\n",
       "    }\n",
       "\n",
       "    .dataframe thead th {\n",
       "        text-align: right;\n",
       "    }\n",
       "</style>\n",
       "<table border=\"1\" class=\"dataframe\">\n",
       "  <thead>\n",
       "    <tr style=\"text-align: right;\">\n",
       "      <th></th>\n",
       "      <th>Metric</th>\n",
       "      <th>RandomForestRegressor</th>\n",
       "    </tr>\n",
       "  </thead>\n",
       "  <tbody>\n",
       "    <tr>\n",
       "      <th>0</th>\n",
       "      <td>R2_score</td>\n",
       "      <td>0.889366</td>\n",
       "    </tr>\n",
       "    <tr>\n",
       "      <th>1</th>\n",
       "      <td>MAE</td>\n",
       "      <td>0.036673</td>\n",
       "    </tr>\n",
       "    <tr>\n",
       "      <th>2</th>\n",
       "      <td>MSE</td>\n",
       "      <td>0.002249</td>\n",
       "    </tr>\n",
       "    <tr>\n",
       "      <th>3</th>\n",
       "      <td>RMSE</td>\n",
       "      <td>0.047427</td>\n",
       "    </tr>\n",
       "    <tr>\n",
       "      <th>4</th>\n",
       "      <td>RSS</td>\n",
       "      <td>0.305906</td>\n",
       "    </tr>\n",
       "  </tbody>\n",
       "</table>\n",
       "</div>"
      ],
      "text/plain": [
       "     Metric  RandomForestRegressor\n",
       "0  R2_score               0.889366\n",
       "1       MAE               0.036673\n",
       "2       MSE               0.002249\n",
       "3      RMSE               0.047427\n",
       "4       RSS               0.305906"
      ]
     },
     "execution_count": 75,
     "metadata": {},
     "output_type": "execute_result"
    }
   ],
   "source": [
    "final_scores = pd.DataFrame()\n",
    "final_scores['Metric'] = ['R2_score', 'MAE', 'MSE', 'RMSE', 'RSS']\n",
    "final_scores['RandomForestRegressor'] = result_final\n",
    "\n",
    "final_scores"
   ]
  },
  {
   "cell_type": "markdown",
   "metadata": {},
   "source": [
    "## Comparing values from prediction to actual"
   ]
  },
  {
   "cell_type": "code",
   "execution_count": 76,
   "metadata": {},
   "outputs": [],
   "source": [
    "predictions = pd.DataFrame(columns=['actual', 'pred'])\n",
    "predictions['actual'] = y_test\n",
    "predictions['pred'] = pred_final"
   ]
  },
  {
   "cell_type": "code",
   "execution_count": 77,
   "metadata": {},
   "outputs": [
    {
     "data": {
      "text/html": [
       "<div>\n",
       "<style scoped>\n",
       "    .dataframe tbody tr th:only-of-type {\n",
       "        vertical-align: middle;\n",
       "    }\n",
       "\n",
       "    .dataframe tbody tr th {\n",
       "        vertical-align: top;\n",
       "    }\n",
       "\n",
       "    .dataframe thead th {\n",
       "        text-align: right;\n",
       "    }\n",
       "</style>\n",
       "<table border=\"1\" class=\"dataframe\">\n",
       "  <thead>\n",
       "    <tr style=\"text-align: right;\">\n",
       "      <th></th>\n",
       "      <th>actual</th>\n",
       "      <th>pred</th>\n",
       "    </tr>\n",
       "  </thead>\n",
       "  <tbody>\n",
       "    <tr>\n",
       "      <th>299</th>\n",
       "      <td>0.60</td>\n",
       "      <td>0.6420</td>\n",
       "    </tr>\n",
       "    <tr>\n",
       "      <th>39</th>\n",
       "      <td>0.63</td>\n",
       "      <td>0.6541</td>\n",
       "    </tr>\n",
       "    <tr>\n",
       "      <th>336</th>\n",
       "      <td>0.90</td>\n",
       "      <td>0.9026</td>\n",
       "    </tr>\n",
       "    <tr>\n",
       "      <th>332</th>\n",
       "      <td>0.56</td>\n",
       "      <td>0.5799</td>\n",
       "    </tr>\n",
       "    <tr>\n",
       "      <th>153</th>\n",
       "      <td>0.70</td>\n",
       "      <td>0.8051</td>\n",
       "    </tr>\n",
       "    <tr>\n",
       "      <th>...</th>\n",
       "      <td>...</td>\n",
       "      <td>...</td>\n",
       "    </tr>\n",
       "    <tr>\n",
       "      <th>29</th>\n",
       "      <td>0.91</td>\n",
       "      <td>0.9057</td>\n",
       "    </tr>\n",
       "    <tr>\n",
       "      <th>148</th>\n",
       "      <td>0.75</td>\n",
       "      <td>0.7895</td>\n",
       "    </tr>\n",
       "    <tr>\n",
       "      <th>265</th>\n",
       "      <td>0.87</td>\n",
       "      <td>0.9253</td>\n",
       "    </tr>\n",
       "    <tr>\n",
       "      <th>26</th>\n",
       "      <td>0.95</td>\n",
       "      <td>0.9098</td>\n",
       "    </tr>\n",
       "    <tr>\n",
       "      <th>7</th>\n",
       "      <td>0.90</td>\n",
       "      <td>0.9147</td>\n",
       "    </tr>\n",
       "  </tbody>\n",
       "</table>\n",
       "<p>136 rows × 2 columns</p>\n",
       "</div>"
      ],
      "text/plain": [
       "     actual    pred\n",
       "299    0.60  0.6420\n",
       "39     0.63  0.6541\n",
       "336    0.90  0.9026\n",
       "332    0.56  0.5799\n",
       "153    0.70  0.8051\n",
       "..      ...     ...\n",
       "29     0.91  0.9057\n",
       "148    0.75  0.7895\n",
       "265    0.87  0.9253\n",
       "26     0.95  0.9098\n",
       "7      0.90  0.9147\n",
       "\n",
       "[136 rows x 2 columns]"
      ]
     },
     "execution_count": 77,
     "metadata": {},
     "output_type": "execute_result"
    }
   ],
   "source": [
    "predictions"
   ]
  },
  {
   "cell_type": "markdown",
   "metadata": {},
   "source": [
    "## Visualizing Feature Importance"
   ]
  },
  {
   "cell_type": "markdown",
   "metadata": {},
   "source": [
    "Creating a function for visualizing the feature importance\n",
    "\n",
    "The purpose of this function is to visualize the feature importances of a machine learning model, which can provide insights into which features are most important for predicting the target variable, and inform feature selection and engineering decisions.\n"
   ]
  },
  {
   "cell_type": "code",
   "execution_count": 78,
   "metadata": {},
   "outputs": [],
   "source": [
    "def plot_importance(columns, importances, n=20):\n",
    "    df = pd.DataFrame(\n",
    "        {'features' : columns, 'feature_importance' : importances}).sort_values(\n",
    "                                                    'feature_importance', ascending=False).reset_index(drop=False)\n",
    "    \n",
    "    # Plotting the dataframe\n",
    "    fig, ax = plt.subplots(figsize=(10,8))\n",
    "    ax = sns.barplot(x ='feature_importance', y='features', data=df[:n], orient='h')\n",
    "    plt.ylabel('features')\n",
    "    plt.xlabel('feature_importance')"
   ]
  },
  {
   "cell_type": "markdown",
   "metadata": {},
   "source": [
    "### Feature importance attribute to show the importance of each feature (or column) in the dataset, based on the impact that it has on the target variable"
   ]
  },
  {
   "cell_type": "code",
   "execution_count": 79,
   "metadata": {},
   "outputs": [
    {
     "data": {
      "image/png": "[encoded data removed]",
      "text/plain": [
       "<Figure size 720x576 with 1 Axes>"
      ]
     },
     "metadata": {},
     "output_type": "display_data"
    }
   ],
   "source": [
    "plot_importance(X2_train.columns, rf_model_final.feature_importances_)"
   ]
  },
  {
   "cell_type": "markdown",
   "metadata": {},
   "source": [
    "## Conclusion\n",
    "### *After model evaluation, we get an R-squared score of 88.9%. <br>This tells us that the variance of the data from the mean of Sleep efficiency is reduced by 88.9% and with a Root Mean-squared error of 0.047, it shows that the predictions are very close to the actual values in the test set that was sampled for evaluation.*"
   ]
  },
  {
   "cell_type": "markdown",
   "metadata": {},
   "source": [
    "### Save model"
   ]
  },
  {
   "cell_type": "code",
   "execution_count": 82,
   "metadata": {},
   "outputs": [],
   "source": [
    "import joblib"
   ]
  },
  {
   "cell_type": "code",
   "execution_count": 83,
   "metadata": {},
   "outputs": [
    {
     "data": {
      "text/plain": [
       "['sleep_efficiency_model.pkl']"
      ]
     },
     "execution_count": 83,
     "metadata": {},
     "output_type": "execute_result"
    }
   ],
   "source": [
    "# Save the model as a pickle in a file\n",
    "joblib.dump(rf_model_final, 'sleep_efficiency_model.pkl')"
   ]
  },
  {
   "cell_type": "code",
   "execution_count": null,
   "metadata": {},
   "outputs": [],
   "source": []
  }
 ],
 "metadata": {
  "kernelspec": {
   "display_name": "Python 3",
   "language": "python",
   "name": "python3"
  },
  "language_info": {
   "codemirror_mode": {
    "name": "ipython",
    "version": 3
   },
   "file_extension": ".py",
   "mimetype": "text/x-python",
   "name": "python",
   "nbconvert_exporter": "python",
   "pygments_lexer": "ipython3",
   "version": "3.7.6"
  }
 },
 "nbformat": 4,
 "nbformat_minor": 4
}
